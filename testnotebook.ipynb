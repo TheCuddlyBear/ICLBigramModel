{
 "cells": [
  {
   "cell_type": "code",
   "execution_count": 43,
   "metadata": {
    "ExecuteTime": {
     "end_time": "2023-05-16T19:04:13.561849200Z",
     "start_time": "2023-05-16T19:04:13.516115900Z"
    }
   },
   "outputs": [],
   "source": [
    "import re\n",
    "import pandas as pd\n",
    "from collections import Counter\n",
    "from tqdm import tqdm\n",
    "\n",
    "\n",
    "class BigramModel:\n",
    "    def __init__(self, tokens: list):\n",
    "        if (tokens == None):\n",
    "            print(\"Tokens cannot be null!\")\n",
    "        else:\n",
    "            self.tokens: list = BigramModel.add_sentence_boundaries(tokens)\n",
    "            _unigram_counts = BigramModel.make_count_unigrams(self.tokens)\n",
    "            _unigram_counts_tuples = _unigram_counts.most_common(len(_unigram_counts))\n",
    "            self.unigram_frequency_table = pd.DataFrame(_unigram_counts_tuples, columns=['unigram', 'count'])\n",
    "            self.unigram_frequency_table.drop(\n",
    "                self.unigram_frequency_table[self.unigram_frequency_table['unigram'] == '</s>'].index, inplace=True)\n",
    "            _bigram_counts = BigramModel.make_count_bigrams(self.tokens)\n",
    "            _bigram_count_tuples = _bigram_counts.most_common(len(_bigram_counts))\n",
    "            self.bigram_frequency_table = pd.DataFrame(_bigram_count_tuples, columns=['bigram', 'count'])\n",
    "\n",
    "    def probability(self, w: str, w_n: str, smoothing_constant: float = 0.0):\n",
    "        \"\"\"\n",
    "        @param w: The token we have just seen\n",
    "        @param w_n: the probability of seeing token w_n\n",
    "        @param smoothing_constant: the constant with which smoothing is applied\n",
    "        This function calculates the probability of seeing token w_n after seeing token w\n",
    "        \"\"\"\n",
    "        bigram: tuple = (w, w_n)\n",
    "        try:\n",
    "            bigram_count = self.bigram_frequency_table.loc[self.bigram_frequency_table['bigram'] == bigram]['count'].tolist()[0]\n",
    "        except:\n",
    "            print('Bigram does not exist')\n",
    "            return 0.0\n",
    "        try:\n",
    "            unigram_count = self.unigram_frequency_table.loc[self.unigram_frequency_table['unigram'] == w_n]['count'].tolist()[0]\n",
    "        except:\n",
    "            print('unigram does not exist')\n",
    "            return 0.0\n",
    "        if smoothing_constant == 0.0:\n",
    "            # Locate the bigram or unigram we want the probability of\n",
    "            return bigram_count / unigram_count\n",
    "        else:\n",
    "            total_words = len(self.unigram_frequency_table)\n",
    "            t = bigram_count + smoothing_constant\n",
    "            n = unigram_count + smoothing_constant * total_words\n",
    "            return t/n\n",
    "\n",
    "\n",
    "\n",
    "    def perplexity(self, sent: list, smoothing_constant: float = 1.0) -> float | None:\n",
    "        pass\n",
    "\n",
    "    def choose_successor(self, word: str, smoothing_constant: float = 0.0) -> str | None:\n",
    "        pass\n",
    "\n",
    "    @staticmethod\n",
    "    def make_count_unigrams(tokens: list) -> Counter:\n",
    "        \"\"\"\n",
    "        @param tokens: list of tokenized sentences\n",
    "        Takes a list of tokenized sentences and generates the appropriate unigrams and counts them\n",
    "        \"\"\"\n",
    "        unigram_counts = Counter()\n",
    "        for p, words in enumerate(\n",
    "                tqdm(tokens, ncols=100, desc='Making and counting Unigrams')):  # tqdm prints a progressbar\n",
    "            unigram_counts += Counter(words)\n",
    "        return unigram_counts\n",
    "\n",
    "    @staticmethod\n",
    "    def make_count_bigrams(tokens: list) -> Counter:\n",
    "        \"\"\"\n",
    "        @param tokens: list of tokenized sentences\n",
    "        Takes a list of tokenized sentences and generates the appropriate bigrams and counts them\n",
    "        \"\"\"\n",
    "        bigram_counts = Counter()\n",
    "        for p, words in enumerate(\n",
    "                tqdm(tokens, ncols=100, desc='Making and counting Bigrams')):  # tqdm prints a progressbar\n",
    "            bigrams: list = []\n",
    "            for i in range(len(words) - 1):\n",
    "                bigrams.append((words[i], words[i + 1]))\n",
    "            bigram_counts += Counter(bigrams)\n",
    "        return bigram_counts\n",
    "\n",
    "    @staticmethod\n",
    "    def add_sentence_boundaries(tokens: list) -> list:\n",
    "        \"\"\"\n",
    "        @param tokens: list of tokenized sentences\n",
    "        Takes a list of tokenized sentences and adds sentence boundaries to all the sentences\n",
    "        \"\"\"\n",
    "        tokens_without_punctuation = BigramModel.remove_punctuation_tokens(tokens)\n",
    "        tokens_with_boundaries: list = []\n",
    "        item: list\n",
    "        for i, item in enumerate(\n",
    "                tqdm(tokens_without_punctuation, ncols=100, desc='Adding boundaries')):  # tqdm prints a progressbar\n",
    "            item.insert(0, \"<s>\")\n",
    "            item.append(\"</s>\")\n",
    "            tokens_with_boundaries.append(item)\n",
    "        return tokens_with_boundaries\n",
    "\n",
    "    @staticmethod\n",
    "    def remove_punctuation_tokens(tokens: list):\n",
    "        \"\"\"\n",
    "        @param tokens: list of tokenized sentences\n",
    "        Takes a list of tokenized sentences and removes the tokens that solemnly consist of punctuation from the list\n",
    "        \"\"\"\n",
    "        to_return: list = []\n",
    "        for sent in tokens:\n",
    "            to_return.append([p.lower() for p in sent if not re.match('\\W', p)])\n",
    "        return to_return"
   ]
  },
  {
   "cell_type": "code",
   "execution_count": 44,
   "metadata": {
    "ExecuteTime": {
     "end_time": "2023-05-16T19:05:36.363835600Z",
     "start_time": "2023-05-16T19:04:14.718543900Z"
    }
   },
   "outputs": [
    {
     "name": "stderr",
     "output_type": "stream",
     "text": [
      "Adding boundaries: 100%|█████████████████████████████████| 11909/11909 [00:00<00:00, 1230112.95it/s]\n",
      "Making and counting Unigrams: 100%|██████████████████████████| 11909/11909 [00:13<00:00, 887.22it/s]\n",
      "Making and counting Bigrams: 100%|███████████████████████████| 11909/11909 [00:59<00:00, 199.57it/s]\n"
     ]
    }
   ],
   "source": [
    "#import Model\n",
    "from corpusreader import CorpusReader\n",
    "import pandas as pd\n",
    "\n",
    "reader = CorpusReader(\"./train\")\n",
    "model = BigramModel(reader.sents())"
   ]
  },
  {
   "cell_type": "code",
   "execution_count": 10,
   "outputs": [
    {
     "data": {
      "text/plain": "        unigram  count\n0           the  13258\n1           <s>  11909\n3           and   6535\n4            of   6366\n5             a   6131\n...         ...    ...\n13858     repel      1\n13859    guards      1\n13860   bruised      1\n13861   swooned      1\n13862  gold-red      1\n\n[13862 rows x 2 columns]",
      "text/html": "<div>\n<style scoped>\n    .dataframe tbody tr th:only-of-type {\n        vertical-align: middle;\n    }\n\n    .dataframe tbody tr th {\n        vertical-align: top;\n    }\n\n    .dataframe thead th {\n        text-align: right;\n    }\n</style>\n<table border=\"1\" class=\"dataframe\">\n  <thead>\n    <tr style=\"text-align: right;\">\n      <th></th>\n      <th>unigram</th>\n      <th>count</th>\n    </tr>\n  </thead>\n  <tbody>\n    <tr>\n      <th>0</th>\n      <td>the</td>\n      <td>13258</td>\n    </tr>\n    <tr>\n      <th>1</th>\n      <td>&lt;s&gt;</td>\n      <td>11909</td>\n    </tr>\n    <tr>\n      <th>3</th>\n      <td>and</td>\n      <td>6535</td>\n    </tr>\n    <tr>\n      <th>4</th>\n      <td>of</td>\n      <td>6366</td>\n    </tr>\n    <tr>\n      <th>5</th>\n      <td>a</td>\n      <td>6131</td>\n    </tr>\n    <tr>\n      <th>...</th>\n      <td>...</td>\n      <td>...</td>\n    </tr>\n    <tr>\n      <th>13858</th>\n      <td>repel</td>\n      <td>1</td>\n    </tr>\n    <tr>\n      <th>13859</th>\n      <td>guards</td>\n      <td>1</td>\n    </tr>\n    <tr>\n      <th>13860</th>\n      <td>bruised</td>\n      <td>1</td>\n    </tr>\n    <tr>\n      <th>13861</th>\n      <td>swooned</td>\n      <td>1</td>\n    </tr>\n    <tr>\n      <th>13862</th>\n      <td>gold-red</td>\n      <td>1</td>\n    </tr>\n  </tbody>\n</table>\n<p>13862 rows × 2 columns</p>\n</div>"
     },
     "execution_count": 10,
     "metadata": {},
     "output_type": "execute_result"
    }
   ],
   "source": [
    "model.unigram_frequency_table"
   ],
   "metadata": {
    "collapsed": false,
    "ExecuteTime": {
     "end_time": "2023-05-16T17:50:19.289822600Z",
     "start_time": "2023-05-16T17:50:19.255850400Z"
    }
   }
  },
  {
   "cell_type": "code",
   "execution_count": 47,
   "outputs": [
    {
     "name": "stdout",
     "output_type": "stream",
     "text": [
      "Bigram does not exist\n"
     ]
    },
    {
     "data": {
      "text/plain": "0.0"
     },
     "execution_count": 47,
     "metadata": {},
     "output_type": "execute_result"
    }
   ],
   "source": [
    "model.probability('guards', 'the', smoothing_constant=1.0)"
   ],
   "metadata": {
    "collapsed": false,
    "ExecuteTime": {
     "end_time": "2023-05-16T19:07:41.676890200Z",
     "start_time": "2023-05-16T19:07:41.661876Z"
    }
   }
  },
  {
   "cell_type": "code",
   "execution_count": 10,
   "outputs": [
    {
     "data": {
      "text/plain": "       count\n0      13258\n1      11909\n3       6535\n4       6366\n5       6131\n...      ...\n13858      1\n13859      1\n13860      1\n13861      1\n13862      1\n\n[13862 rows x 1 columns]",
      "text/html": "<div>\n<style scoped>\n    .dataframe tbody tr th:only-of-type {\n        vertical-align: middle;\n    }\n\n    .dataframe tbody tr th {\n        vertical-align: top;\n    }\n\n    .dataframe thead th {\n        text-align: right;\n    }\n</style>\n<table border=\"1\" class=\"dataframe\">\n  <thead>\n    <tr style=\"text-align: right;\">\n      <th></th>\n      <th>count</th>\n    </tr>\n  </thead>\n  <tbody>\n    <tr>\n      <th>0</th>\n      <td>13258</td>\n    </tr>\n    <tr>\n      <th>1</th>\n      <td>11909</td>\n    </tr>\n    <tr>\n      <th>3</th>\n      <td>6535</td>\n    </tr>\n    <tr>\n      <th>4</th>\n      <td>6366</td>\n    </tr>\n    <tr>\n      <th>5</th>\n      <td>6131</td>\n    </tr>\n    <tr>\n      <th>...</th>\n      <td>...</td>\n    </tr>\n    <tr>\n      <th>13858</th>\n      <td>1</td>\n    </tr>\n    <tr>\n      <th>13859</th>\n      <td>1</td>\n    </tr>\n    <tr>\n      <th>13860</th>\n      <td>1</td>\n    </tr>\n    <tr>\n      <th>13861</th>\n      <td>1</td>\n    </tr>\n    <tr>\n      <th>13862</th>\n      <td>1</td>\n    </tr>\n  </tbody>\n</table>\n<p>13862 rows × 1 columns</p>\n</div>"
     },
     "execution_count": 10,
     "metadata": {},
     "output_type": "execute_result"
    }
   ],
   "source": [
    "model.unigram_frequency_table.drop(columns=['unigram'])"
   ],
   "metadata": {
    "collapsed": false,
    "ExecuteTime": {
     "end_time": "2023-05-16T18:30:06.032326300Z",
     "start_time": "2023-05-16T18:30:06.011794700Z"
    }
   }
  }
 ],
 "metadata": {
  "kernelspec": {
   "display_name": "Python 3 (ipykernel)",
   "language": "python",
   "name": "python3"
  },
  "language_info": {
   "codemirror_mode": {
    "name": "ipython",
    "version": 3
   },
   "file_extension": ".py",
   "mimetype": "text/x-python",
   "name": "python",
   "nbconvert_exporter": "python",
   "pygments_lexer": "ipython3",
   "version": "3.10.9"
  }
 },
 "nbformat": 4,
 "nbformat_minor": 2
}
