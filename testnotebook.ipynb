{
 "cells": [
  {
   "cell_type": "code",
   "execution_count": 13,
   "metadata": {},
   "outputs": [],
   "source": [
    "import re\n",
    "import pandas as pd\n",
    "from collections import Counter\n",
    "import nltk\n",
    "\n",
    "class BigramModel:\n",
    "    def __init__(self, tokens: list):\n",
    "        self.tokens: list = self.addSentenceBoundaries([i.lower() for i in tokens if not re.match('\\W', i)], True)\n",
    "        self.frequencyTable: pd.DataFrame = pd.DataFrame(data={'bigram': [], 'count': []})\n",
    "        bigramCounts = self.countBigrams(self.tokens)\n",
    "        print(\"Bigram counting done!\")\n",
    "        bigramCountTuples = bigramCounts.most_common(len(bigramCounts))\n",
    "        self.frequencyTable: pd.DataFrame = pd.DataFrame(bigramCountTuples, columns=['bigram', 'count'])\n",
    "    \n",
    "    def countBigrams(self, tokens: list) -> Counter:\n",
    "        bigramCounts = Counter()\n",
    "        l = len(tokens)\n",
    "        self.printProgressBar(0, l, prefix='Counting Bigrams:', suffix= 'Complete', length = 50)\n",
    "        for i, sentence in enumerate(tokens):\n",
    "            bigrams: list = []\n",
    "            words: list = sentence.split(\" \")\n",
    "            words.remove(\"</s>\")\n",
    "            for i in range(len(words) - 1):\n",
    "                bigrams.append(words[i] + \" \" + words[i+1])\n",
    "            bigramCounts += Counter(bigrams)\n",
    "            self.printProgressBar(i+1, l, prefix='Counting Bigrams:', suffix= 'Complete', length = 50)\n",
    "        return bigramCounts\n",
    "\n",
    "    def addSentenceBoundaries(self, tokens: list, useProgressBar=False) -> list:\n",
    "        tokensWithBoundaries: list = []\n",
    "        if useProgressBar:\n",
    "            l = len(tokens)\n",
    "            self.printProgressBar(0, l, prefix = 'adding boundaries:', suffix = 'Complete', length = 50)\n",
    "        for i in range(len(tokens)):\n",
    "            s = \"<s> \" + tokens[i] + \" </s>\"\n",
    "            tokensWithBoundaries.append(s)\n",
    "            if useProgressBar:\n",
    "                self.printProgressBar(i+1, l, prefix = 'adding boundaries:', suffix = 'Complete', length = 50)\n",
    "        return tokensWithBoundaries\n",
    "\n",
    "    def printProgressBar(self, iteration, total, prefix = '', suffix = '', decimals = 1, length = 100, fill = '█', printEnd = \"\\r\"):\n",
    "        percent = (\"{0:.\" + str(decimals) + \"f}\").format(100 * (iteration / float(total)))\n",
    "        filledLength = int(length * iteration // total)\n",
    "        bar = fill * filledLength + '-' * (length - filledLength)\n",
    "        print(f'\\r{prefix} |{bar}| {percent}% {suffix}', end = printEnd)\n",
    "        # Print New Line on Complete\n",
    "        if iteration == total: \n",
    "            print()"
   ]
  },
  {
   "cell_type": "code",
   "execution_count": 14,
   "metadata": {},
   "outputs": [
    {
     "name": "stdout",
     "output_type": "stream",
     "text": [
      "adding boundaries: |██████████████████████████████████████████████████| 100.0% Complete\n",
      "Bigram counting done!------------------------------------------------| 0.3% Complete\n"
     ]
    }
   ],
   "source": [
    "#import Model\n",
    "from CorpusReader import CorpusReader\n",
    "import pandas as pd\n",
    "\n",
    "reader = CorpusReader(\"./train\")\n",
    "model = Model(reader.sents())"
   ]
  }
 ],
 "metadata": {
  "kernelspec": {
   "display_name": "Python 3",
   "language": "python",
   "name": "python3"
  },
  "language_info": {
   "codemirror_mode": {
    "name": "ipython",
    "version": 3
   },
   "file_extension": ".py",
   "mimetype": "text/x-python",
   "name": "python",
   "nbconvert_exporter": "python",
   "pygments_lexer": "ipython3",
   "version": "3.11.0"
  },
  "orig_nbformat": 4
 },
 "nbformat": 4,
 "nbformat_minor": 2
}
