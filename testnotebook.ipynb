{
 "cells": [
  {
   "cell_type": "code",
   "execution_count": 71,
   "metadata": {
    "ExecuteTime": {
     "end_time": "2023-05-18T15:04:56.906022800Z",
     "start_time": "2023-05-18T15:04:56.890308500Z"
    }
   },
   "outputs": [],
   "source": [
    "import math\n",
    "import pickle\n",
    "import re\n",
    "import pandas as pd\n",
    "from collections import Counter\n",
    "from tqdm import tqdm\n",
    "import random\n",
    "\n",
    "\n",
    "class BigramModel:\n",
    "    def __init__(self, tokens: list):\n",
    "        if tokens is None:\n",
    "            print(\"Tokens cannot be null!\")\n",
    "        else:\n",
    "            self.tokens: list = BigramModel.add_sentence_boundaries(tokens)\n",
    "            _unigram_counts = BigramModel.count_unigrams(self.tokens)\n",
    "            _unigram_counts_tuples = _unigram_counts.most_common(len(_unigram_counts))\n",
    "            self.unigrams = pd.DataFrame(_unigram_counts_tuples, columns=['unigram', 'count'])\n",
    "            self.unigrams.drop(self.unigrams.loc[self.unigrams['unigram'] == '</s>'].index, inplace=True)\n",
    "            _bigram_counts = BigramModel.make_count_bigrams(self.tokens)\n",
    "            _bigram_count_tuples = _bigram_counts.most_common(len(_bigram_counts))\n",
    "            self.bigrams = pd.DataFrame(_bigram_count_tuples, columns=['bigram', 'count'])\n",
    "\n",
    "    def __setstate__(self, state):\n",
    "        self.unigrams = pd.DataFrame.from_dict(state['unigram_pickle'])\n",
    "        self.bigrams = pd.DataFrame.from_dict(state['bigram_pickle'])\n",
    "        self.tokens = state['tokens']\n",
    "\n",
    "    def __getstate__(self):\n",
    "        dict = {'bigram_pickle': self.bigrams.to_dict(),\n",
    "                'unigram_pickle': self.unigrams.to_dict(), 'tokens': self.tokens}\n",
    "        return dict\n",
    "\n",
    "    def probability(self, w: str, w_n: str, smoothing_constant: float = 0.0):\n",
    "        \"\"\"\n",
    "        @param w: The token we have just seen\n",
    "        @param w_n: the probability of seeing token w_n\n",
    "        @param smoothing_constant: the constant with which smoothing is applied\n",
    "        This function calculates the probability of seeing token w_n after seeing token w\n",
    "        \"\"\"\n",
    "        bigram: tuple = (w, w_n)\n",
    "        try:\n",
    "            bigram_count = \\\n",
    "                self.bigrams.loc[self.bigrams['bigram'] == bigram]['count'].tolist()[0]\n",
    "        except:\n",
    "            return 0.0\n",
    "        try:\n",
    "            unigram_count = \\\n",
    "                self.unigrams.loc[self.unigrams['unigram'] == w_n]['count'].tolist()[0]\n",
    "        except:\n",
    "            return 0.0\n",
    "        if smoothing_constant == 0.0:\n",
    "            # Locate the bigram or unigram we want the probability of\n",
    "            return bigram_count / unigram_count\n",
    "        else:\n",
    "            total_words = len(self.unigrams)\n",
    "            t = bigram_count + smoothing_constant\n",
    "            n = unigram_count + smoothing_constant * total_words\n",
    "            return t / n\n",
    "\n",
    "    def perplexity(self, sent: list, smoothing_constant: float = 1.0) -> float:\n",
    "        \"\"\"\n",
    "        @param sent: Sentence in the form of a list of tokens\n",
    "        @param smoothing_constant: The constant used to apply smoothing\n",
    "        This calculates the perplexity of the given sentence.\n",
    "        \"\"\"\n",
    "        sent_copy = sent.copy()\n",
    "        sent_copy.remove('</s>')\n",
    "        n = len(sent_copy)\n",
    "        probs = []\n",
    "        for i in range(n - 1):\n",
    "            probability = self.probability(sent_copy[i], sent_copy[i + 1], smoothing_constant)\n",
    "            q = 1 / probability\n",
    "            probs.append(q)\n",
    "        s = math.prod(probs)\n",
    "        return s ** (1 / n)\n",
    "\n",
    "    def choose_successor(self, word: str, smoothing_constant: float = 0.0) -> str | None:\n",
    "        \"\"\"\n",
    "        @param word: The word/token for which to generate the successor\n",
    "        @param smoothing_constant: The constant used to apply smoothing\n",
    "        This function uses the probability function to randomly but based on probabilities\n",
    "        choose a successor to the token given.\n",
    "        \"\"\"\n",
    "        try:\n",
    "            unigram_count = \\\n",
    "                self.unigrams.loc[self.unigrams['unigram'] == word]['count'].tolist()[0]\n",
    "        except:\n",
    "            return None\n",
    "\n",
    "        possible_bigrams = \\\n",
    "            self.bigrams[self.bigrams['bigram'].apply(lambda x: x[0] == word)][\n",
    "                'bigram'].tolist()\n",
    "        prob2 = []\n",
    "        for bigram in tqdm(possible_bigrams, ncols=100, desc=f\"Choosing successor for: {word}\"):\n",
    "            prob2.append(self.probability(word, bigram[1], 0.0))\n",
    "        successor: tuple = random.choices(possible_bigrams, weights=prob2, k=1)\n",
    "        return successor[0][1]\n",
    "\n",
    "    def save_model(self, location: str):\n",
    "        \"\"\"\n",
    "        @param location: Path to where the model should be stored\n",
    "        Uses pickle to store the model into a file to be loaded back in later\n",
    "        \"\"\"\n",
    "        with open(location, 'wb') as f:\n",
    "            pickle.dump(self, f)\n",
    "\n",
    "    @staticmethod\n",
    "    def load_model(location: str):\n",
    "        \"\"\"\n",
    "        @param location: Path to where the model is stored\n",
    "        Uses to pickle to load a store model back in to e.g. a variable.\n",
    "        \"\"\"\n",
    "        with open(location, 'rb') as f:\n",
    "            return pickle.load(f)\n",
    "\n",
    "    @staticmethod\n",
    "    def count_unigrams(tokens: list) -> Counter:\n",
    "        \"\"\"\n",
    "        @param tokens: list of tokenized sentences\n",
    "        Takes a list of tokenized sentences and generates the appropriate unigrams and counts them\n",
    "        \"\"\"\n",
    "        totWords: list = []\n",
    "        for p, words in enumerate(\n",
    "                tqdm(tokens, ncols=100, desc='Making and counting Unigrams')):  # tqdm prints a progressbar\n",
    "            for word in words:\n",
    "                totWords.append(word)\n",
    "        return Counter(totWords)\n",
    "\n",
    "    @staticmethod\n",
    "    def make_count_bigrams(tokens: list) -> Counter:\n",
    "        \"\"\"\n",
    "        @param tokens: list of tokenized sentences\n",
    "        Takes a list of tokenized sentences and generates the appropriate bigrams and counts them\n",
    "        \"\"\"\n",
    "        # bigram_counts = Counter()\n",
    "        bigrams: list = []\n",
    "        for p, words in enumerate(tqdm(tokens, ncols=100, desc='Making and counting Bigrams')):  # tqdm prints a progressbar\n",
    "            words.remove(\"</s>\")\n",
    "            for i in range(len(words) - 1):\n",
    "                bigrams.append((words[i], words[i + 1]))\n",
    "        return Counter(bigrams)\n",
    "\n",
    "    @staticmethod\n",
    "    def add_sentence_boundaries(tokens: list) -> list:\n",
    "        \"\"\"\n",
    "        @param tokens: list of tokenized sentences\n",
    "        Takes a list of tokenized sentences and adds sentence boundaries to all the sentences\n",
    "        \"\"\"\n",
    "        tokens_without_punctuation = BigramModel.remove_punctuation_tokens(tokens)\n",
    "        tokens_with_boundaries: list = []\n",
    "        item: list\n",
    "        for i, item in enumerate(\n",
    "                tqdm(tokens_without_punctuation, ncols=100, desc='Adding boundaries')):  # tqdm prints a progressbar\n",
    "            item.insert(0, \"<s>\")\n",
    "            item.append(\"</s>\")\n",
    "            tokens_with_boundaries.append(item)\n",
    "        return tokens_with_boundaries\n",
    "\n",
    "    @staticmethod\n",
    "    def remove_punctuation_tokens(tokens: list):\n",
    "        \"\"\"\n",
    "        @param tokens: list of tokenized sentences\n",
    "        Takes a list of tokenized sentences and removes the tokens that solemnly consist of punctuation from the list\n",
    "        \"\"\"\n",
    "        to_return: list = []\n",
    "        for sent in tokens:\n",
    "            to_return.append([p.lower() for p in sent if not re.match('\\W', p)])\n",
    "        return to_return\n"
   ]
  },
  {
   "cell_type": "code",
   "execution_count": 72,
   "metadata": {
    "ExecuteTime": {
     "end_time": "2023-05-18T15:05:07.861304500Z",
     "start_time": "2023-05-18T15:05:00.801304700Z"
    }
   },
   "outputs": [
    {
     "name": "stderr",
     "output_type": "stream",
     "text": [
      "Adding boundaries: 100%|█████████████████████████████████| 11909/11909 [00:00<00:00, 1308070.14it/s]\n",
      "Making and counting Unigrams: 100%|███████████████████████| 11909/11909 [00:00<00:00, 430826.00it/s]\n",
      "Making and counting Bigrams: 100%|████████████████████████| 11909/11909 [00:00<00:00, 162267.41it/s]\n"
     ]
    }
   ],
   "source": [
    "#import Model\n",
    "from corpusreader import CorpusReader\n",
    "import pandas as pd\n",
    "\n",
    "reader = CorpusReader(\"./train\")\n",
    "model = BigramModel(reader.sents())"
   ]
  },
  {
   "cell_type": "code",
   "execution_count": 54,
   "outputs": [
    {
     "data": {
      "text/plain": "        unigram  count\n0           the  13258\n1           <s>  11909\n3           and   6535\n4            of   6366\n5             a   6131\n...         ...    ...\n13858     repel      1\n13859    guards      1\n13860   bruised      1\n13861   swooned      1\n13862  gold-red      1\n\n[13862 rows x 2 columns]",
      "text/html": "<div>\n<style scoped>\n    .dataframe tbody tr th:only-of-type {\n        vertical-align: middle;\n    }\n\n    .dataframe tbody tr th {\n        vertical-align: top;\n    }\n\n    .dataframe thead th {\n        text-align: right;\n    }\n</style>\n<table border=\"1\" class=\"dataframe\">\n  <thead>\n    <tr style=\"text-align: right;\">\n      <th></th>\n      <th>unigram</th>\n      <th>count</th>\n    </tr>\n  </thead>\n  <tbody>\n    <tr>\n      <th>0</th>\n      <td>the</td>\n      <td>13258</td>\n    </tr>\n    <tr>\n      <th>1</th>\n      <td>&lt;s&gt;</td>\n      <td>11909</td>\n    </tr>\n    <tr>\n      <th>3</th>\n      <td>and</td>\n      <td>6535</td>\n    </tr>\n    <tr>\n      <th>4</th>\n      <td>of</td>\n      <td>6366</td>\n    </tr>\n    <tr>\n      <th>5</th>\n      <td>a</td>\n      <td>6131</td>\n    </tr>\n    <tr>\n      <th>...</th>\n      <td>...</td>\n      <td>...</td>\n    </tr>\n    <tr>\n      <th>13858</th>\n      <td>repel</td>\n      <td>1</td>\n    </tr>\n    <tr>\n      <th>13859</th>\n      <td>guards</td>\n      <td>1</td>\n    </tr>\n    <tr>\n      <th>13860</th>\n      <td>bruised</td>\n      <td>1</td>\n    </tr>\n    <tr>\n      <th>13861</th>\n      <td>swooned</td>\n      <td>1</td>\n    </tr>\n    <tr>\n      <th>13862</th>\n      <td>gold-red</td>\n      <td>1</td>\n    </tr>\n  </tbody>\n</table>\n<p>13862 rows × 2 columns</p>\n</div>"
     },
     "execution_count": 54,
     "metadata": {},
     "output_type": "execute_result"
    }
   ],
   "source": [
    "model.unigrams"
   ],
   "metadata": {
    "collapsed": false,
    "ExecuteTime": {
     "end_time": "2023-05-18T14:56:59.303581Z",
     "start_time": "2023-05-18T14:56:59.259258200Z"
    }
   }
  },
  {
   "cell_type": "code",
   "execution_count": 76,
   "outputs": [
    {
     "name": "stderr",
     "output_type": "stream",
     "text": [
      "Choosing successor for: the: 100%|██████████████████████████████| 3478/3478 [01:02<00:00, 55.48it/s]\n"
     ]
    }
   ],
   "source": [
    "successor = model.choose_successor('the')"
   ],
   "metadata": {
    "collapsed": false,
    "ExecuteTime": {
     "end_time": "2023-05-18T15:06:39.084111200Z",
     "start_time": "2023-05-18T15:05:36.340951300Z"
    }
   }
  },
  {
   "cell_type": "code",
   "execution_count": 78,
   "outputs": [
    {
     "name": "stdout",
     "output_type": "stream",
     "text": [
      "marriages\n"
     ]
    }
   ],
   "source": [
    "print(successor)"
   ],
   "metadata": {
    "collapsed": false,
    "ExecuteTime": {
     "end_time": "2023-05-18T15:07:23.088773Z",
     "start_time": "2023-05-18T15:07:23.078816700Z"
    }
   }
  }
 ],
 "metadata": {
  "kernelspec": {
   "display_name": "Python 3 (ipykernel)",
   "language": "python",
   "name": "python3"
  },
  "language_info": {
   "codemirror_mode": {
    "name": "ipython",
    "version": 3
   },
   "file_extension": ".py",
   "mimetype": "text/x-python",
   "name": "python",
   "nbconvert_exporter": "python",
   "pygments_lexer": "ipython3",
   "version": "3.10.9"
  }
 },
 "nbformat": 4,
 "nbformat_minor": 2
}
