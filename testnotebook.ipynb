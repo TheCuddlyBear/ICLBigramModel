{
 "cells": [
  {
   "cell_type": "code",
   "execution_count": 5,
   "metadata": {
    "ExecuteTime": {
     "end_time": "2023-05-16T15:00:13.164862800Z",
     "start_time": "2023-05-16T15:00:13.152119500Z"
    }
   },
   "outputs": [],
   "source": [
    "import re\n",
    "import pandas as pd\n",
    "from collections import Counter\n",
    "from tqdm import tqdm\n",
    "\n",
    "class BigramModel:\n",
    "    def __init__(self, tokens: list):\n",
    "        if(tokens == None):\n",
    "            print(\"Tokens cannot be null!\")\n",
    "        else:\n",
    "            self.tokens: list = self.__add_sentence_boundaries(tokens)\n",
    "            _bigram_counts = self.__make_count_bigrams(self.tokens)\n",
    "            _bigram_count_tuples = _bigram_counts.most_common(len(_bigram_counts))\n",
    "            self.frequencyTable: pd.DataFrame = pd.DataFrame(_bigram_count_tuples, columns=['bigram', 'count'])\n",
    "\n",
    "    def probability(self, w: str, w_n: str, smooth_constant: float = 0.0) -> float:\n",
    "        pass\n",
    "\n",
    "    def perplexity(self, sent: list, smoothing_constant: float = 0.0) -> float:\n",
    "        pass\n",
    "\n",
    "    def choose_successor(self, word: str, smooth_constant: float = 0.0) -> str:\n",
    "        pass\n",
    "    \n",
    "    def __make_count_bigrams(self, tokens: list) -> Counter:\n",
    "        bigram_counts = Counter()\n",
    "        for p, words in enumerate(tqdm(tokens, ncols = 100, desc='Making and counting Bigrams')):\n",
    "            bigrams: list = []\n",
    "            for i in range(len(words) - 1):\n",
    "                bigrams.append(words[i] + \" \" + words[i+1])\n",
    "            bigram_counts += Counter(bigrams)\n",
    "        return bigram_counts\n",
    "\n",
    "    def __add_sentence_boundaries(self, tokens: list) -> list:\n",
    "        tokens_without_punctuation = self.__remove_punctuation_tokens(tokens)\n",
    "        tokens_with_boundaries: list = []\n",
    "        item: list\n",
    "        for i, item in enumerate(tqdm(tokens_without_punctuation, ncols = 100, desc='Adding boundaries')):\n",
    "            item.insert(0, \"<s>\")\n",
    "            item.append(\"</s>\")\n",
    "            tokens_with_boundaries.append(item)\n",
    "        return tokens_with_boundaries\n",
    "\n",
    "    def __remove_punctuation_tokens(self, tokens: list):\n",
    "        to_return: list = []\n",
    "        for sent in tokens:\n",
    "            to_return.append([p.lower() for p in sent if not re.match('\\W', p)])\n",
    "        return to_return"
   ]
  },
  {
   "cell_type": "code",
   "execution_count": 6,
   "metadata": {
    "ExecuteTime": {
     "end_time": "2023-05-16T15:01:00.711218600Z",
     "start_time": "2023-05-16T15:00:18.162022400Z"
    }
   },
   "outputs": [
    {
     "name": "stderr",
     "output_type": "stream",
     "text": [
      "Adding boundaries: 100%|█████████████████████████████████| 11909/11909 [00:00<00:00, 1319438.05it/s]\n",
      "Making and counting Bigrams: 100%|███████████████████████████| 11909/11909 [00:36<00:00, 329.38it/s]\n"
     ]
    }
   ],
   "source": [
    "#import Model\n",
    "from corpusreader import CorpusReader\n",
    "import pandas as pd\n",
    "\n",
    "reader = CorpusReader(\"./train\")\n",
    "model = BigramModel(reader.sents())"
   ]
  }
 ],
 "metadata": {
  "kernelspec": {
   "display_name": "Python 3 (ipykernel)",
   "language": "python",
   "name": "python3"
  },
  "language_info": {
   "codemirror_mode": {
    "name": "ipython",
    "version": 3
   },
   "file_extension": ".py",
   "mimetype": "text/x-python",
   "name": "python",
   "nbconvert_exporter": "python",
   "pygments_lexer": "ipython3",
   "version": "3.10.9"
  }
 },
 "nbformat": 4,
 "nbformat_minor": 2
}
