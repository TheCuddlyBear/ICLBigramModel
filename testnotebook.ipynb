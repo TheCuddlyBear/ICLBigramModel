{
 "cells": [
  {
   "cell_type": "code",
   "execution_count": 42,
   "metadata": {
    "ExecuteTime": {
     "end_time": "2023-05-16T13:08:29.206455400Z",
     "start_time": "2023-05-16T13:08:29.190741200Z"
    }
   },
   "outputs": [],
   "source": [
    "import re\n",
    "import pandas as pd\n",
    "from collections import Counter\n",
    "from tqdm import tqdm\n",
    "\n",
    "class BigramModel:\n",
    "    def __init__(self, tokens: list):\n",
    "        self.tokens: list = self.addSentenceBoundaries(tokens)\n",
    "        bigramCounts = self.countBigrams(self.tokens)\n",
    "        bigramCountTuples = bigramCounts.most_common(len(bigramCounts))\n",
    "        self.frequencyTable: pd.DataFrame = pd.DataFrame(bigramCountTuples, columns=['bigram', 'count'])\n",
    "    \n",
    "    def countBigrams(self, tokens: list) -> Counter:\n",
    "        bigramCounts = Counter()\n",
    "        for p, words in enumerate(tqdm(tokens, ncols = 100, desc='Making and counting Bigrams')):\n",
    "            bigrams: list = []\n",
    "            for i in range(len(words) - 1):\n",
    "                bigrams.append(words[i] + \" \" + words[i+1])\n",
    "            bigramCounts += Counter(bigrams)\n",
    "        return bigramCounts\n",
    "\n",
    "    def addSentenceBoundaries(self, tokens: list) -> list:\n",
    "        tokensWithoutPunctuation = self.removePunctuationTokens(tokens)\n",
    "        tokensWithBoundaries: list = []\n",
    "        item: list\n",
    "        for i, item in enumerate(tqdm(tokensWithoutPunctuation, ncols = 100, desc='Adding boundaries')):\n",
    "            item.insert(0, \"<s>\")\n",
    "            item.append(\"</s>\")\n",
    "            tokensWithBoundaries.append(item)\n",
    "        return tokensWithBoundaries\n",
    "\n",
    "    def removePunctuationTokens(self, tokens: list):\n",
    "        toReturn: list = []\n",
    "        for sent in tokens:\n",
    "            toReturn.append([p.lower() for p in sent if not re.match('\\W', p)])\n",
    "        return toReturn"
   ]
  },
  {
   "cell_type": "code",
   "execution_count": 43,
   "metadata": {
    "ExecuteTime": {
     "end_time": "2023-05-16T13:09:00.143187800Z",
     "start_time": "2023-05-16T13:08:31.214272200Z"
    }
   },
   "outputs": [
    {
     "name": "stderr",
     "output_type": "stream",
     "text": [
      "Adding boundaries: 100%|██████████████████████████████████| 11909/11909 [00:00<00:00, 520095.44it/s]\n",
      "Making and counting Bigrams: 100%|███████████████████████████| 11909/11909 [00:25<00:00, 464.97it/s]\n"
     ]
    }
   ],
   "source": [
    "#import Model\n",
    "from CorpusReader import CorpusReader\n",
    "import pandas as pd\n",
    "\n",
    "reader = CorpusReader(\"./train\")\n",
    "model = BigramModel(reader.sents())"
   ]
  }
 ],
 "metadata": {
  "kernelspec": {
   "display_name": "Python 3 (ipykernel)",
   "language": "python",
   "name": "python3"
  },
  "language_info": {
   "codemirror_mode": {
    "name": "ipython",
    "version": 3
   },
   "file_extension": ".py",
   "mimetype": "text/x-python",
   "name": "python",
   "nbconvert_exporter": "python",
   "pygments_lexer": "ipython3",
   "version": "3.10.9"
  }
 },
 "nbformat": 4,
 "nbformat_minor": 2
}
