{
 "cells": [
  {
   "cell_type": "code",
   "execution_count": 64,
   "metadata": {
    "ExecuteTime": {
     "end_time": "2023-05-16T21:38:28.731353300Z",
     "start_time": "2023-05-16T21:38:28.714907300Z"
    }
   },
   "outputs": [],
   "source": [
    "import math\n",
    "import pickle\n",
    "import re\n",
    "import pandas as pd\n",
    "from collections import Counter\n",
    "from tqdm import tqdm\n",
    "\n",
    "\n",
    "class BigramModel:\n",
    "    def __init__(self, tokens: list, bigram_table=None, unigram_table=None, from_json=False):\n",
    "        if (tokens == None):\n",
    "            print(\"Tokens cannot be null!\")\n",
    "        else:\n",
    "            self.tokens: list = BigramModel.add_sentence_boundaries(tokens) if not from_json else tokens\n",
    "            _unigram_counts = BigramModel.make_count_unigrams(self.tokens) if not from_json else None\n",
    "            _unigram_counts_tuples = _unigram_counts.most_common(len(_unigram_counts)) if not from_json else None\n",
    "            self.unigram_frequency_table = pd.DataFrame(_unigram_counts_tuples, columns=['unigram', 'count']) if not from_json else unigram_table\n",
    "            self.unigram_frequency_table.drop(\n",
    "                self.unigram_frequency_table[self.unigram_frequency_table['unigram'] == '</s>'].index, inplace=True) if not from_json else None\n",
    "            _bigram_counts = BigramModel.make_count_bigrams(self.tokens) if not from_json else None\n",
    "            _bigram_count_tuples = _bigram_counts.most_common(len(_bigram_counts)) if not from_json else None\n",
    "            self.bigram_frequency_table = pd.DataFrame(_bigram_count_tuples, columns=['bigram', 'count']) if not from_json else bigram_table\n",
    "    def __setstate__(self, state):\n",
    "        self.unigram_frequency_table = pd.DataFrame.from_dict(state['unigram_pickle'])\n",
    "        self.bigram_frequency_table = pd.DataFrame.from_dict(state['bigram_pickle'])\n",
    "        self.tokens = state['tokens']\n",
    "    def __getstate__(self):\n",
    "        dict = {'bigram_pickle': self.bigram_frequency_table.to_dict(), 'unigram_pickle': self.unigram_frequency_table.to_dict(), 'tokens': self.tokens}\n",
    "        return dict\n",
    "\n",
    "    def probability(self, w: str, w_n: str, smoothing_constant: float = 0.0):\n",
    "        \"\"\"\n",
    "        @param w: The token we have just seen\n",
    "        @param w_n: the probability of seeing token w_n\n",
    "        @param smoothing_constant: the constant with which smoothing is applied\n",
    "        This function calculates the probability of seeing token w_n after seeing token w\n",
    "        \"\"\"\n",
    "        bigram: tuple = (w, w_n)\n",
    "        try:\n",
    "            bigram_count = \\\n",
    "            self.bigram_frequency_table.loc[self.bigram_frequency_table['bigram'] == bigram]['count'].tolist()[0]\n",
    "        except:\n",
    "            return 0.0\n",
    "        try:\n",
    "            unigram_count = \\\n",
    "            self.unigram_frequency_table.loc[self.unigram_frequency_table['unigram'] == w_n]['count'].tolist()[0]\n",
    "        except:\n",
    "            return 0.0\n",
    "        if smoothing_constant == 0.0:\n",
    "            # Locate the bigram or unigram we want the probability of\n",
    "            return bigram_count / unigram_count\n",
    "        else:\n",
    "            total_words = len(self.unigram_frequency_table)\n",
    "            t = bigram_count + smoothing_constant\n",
    "            n = unigram_count + smoothing_constant * total_words\n",
    "            return t / n\n",
    "\n",
    "    def perplexity(self, sent: list, smoothing_constant: float = 1.0) -> float:\n",
    "        sentCopy = sent.copy()\n",
    "        sentCopy.remove('</s>')\n",
    "        n = len(sentCopy)\n",
    "        probs = []\n",
    "        for i in range(n - 1):\n",
    "            probability = self.probability(sentCopy[i], sentCopy[i + 1], smoothing_constant)\n",
    "            q = 1 / probability\n",
    "            probs.append(q)\n",
    "        s = math.prod(probs)\n",
    "        return s ** (1 / n)\n",
    "\n",
    "    def choose_successor(self, word: str, smoothing_constant: float = 0.0) -> str | None:\n",
    "        pass\n",
    "\n",
    "    def save_model(self, location: str):\n",
    "        with open(location, 'wb') as f:\n",
    "            pickle.dump(self, f)\n",
    "\n",
    "    @staticmethod\n",
    "    def load_model(location: str) -> BigramModel:\n",
    "        with open(location, 'rb') as f:\n",
    "            return pickle.load(f)\n",
    "\n",
    "    @staticmethod\n",
    "    def make_count_unigrams(tokens: list) -> Counter:\n",
    "        \"\"\"\n",
    "        @param tokens: list of tokenized sentences\n",
    "        Takes a list of tokenized sentences and generates the appropriate unigrams and counts them\n",
    "        \"\"\"\n",
    "        unigram_counts = Counter()\n",
    "        for p, words in enumerate(\n",
    "                tqdm(tokens, ncols=100, desc='Making and counting Unigrams')):  # tqdm prints a progressbar\n",
    "            unigram_counts += Counter(words)\n",
    "        return unigram_counts\n",
    "\n",
    "    @staticmethod\n",
    "    def make_count_bigrams(tokens: list) -> Counter:\n",
    "        \"\"\"\n",
    "        @param tokens: list of tokenized sentences\n",
    "        Takes a list of tokenized sentences and generates the appropriate bigrams and counts them\n",
    "        \"\"\"\n",
    "        bigram_counts = Counter()\n",
    "        for p, words in enumerate(\n",
    "                tqdm(tokens, ncols=100, desc='Making and counting Bigrams')):  # tqdm prints a progressbar\n",
    "            bigrams: list = []\n",
    "            for i in range(len(words) - 1):\n",
    "                bigrams.append((words[i], words[i + 1]))\n",
    "            bigram_counts += Counter(bigrams)\n",
    "        return bigram_counts\n",
    "\n",
    "    @staticmethod\n",
    "    def add_sentence_boundaries(tokens: list) -> list:\n",
    "        \"\"\"\n",
    "        @param tokens: list of tokenized sentences\n",
    "        Takes a list of tokenized sentences and adds sentence boundaries to all the sentences\n",
    "        \"\"\"\n",
    "        tokens_without_punctuation = BigramModel.remove_punctuation_tokens(tokens)\n",
    "        tokens_with_boundaries: list = []\n",
    "        item: list\n",
    "        for i, item in enumerate(\n",
    "                tqdm(tokens_without_punctuation, ncols=100, desc='Adding boundaries')):  # tqdm prints a progressbar\n",
    "            item.insert(0, \"<s>\")\n",
    "            item.append(\"</s>\")\n",
    "            tokens_with_boundaries.append(item)\n",
    "        return tokens_with_boundaries\n",
    "\n",
    "    @staticmethod\n",
    "    def remove_punctuation_tokens(tokens: list):\n",
    "        \"\"\"\n",
    "        @param tokens: list of tokenized sentences\n",
    "        Takes a list of tokenized sentences and removes the tokens that solemnly consist of punctuation from the list\n",
    "        \"\"\"\n",
    "        to_return: list = []\n",
    "        for sent in tokens:\n",
    "            to_return.append([p.lower() for p in sent if not re.match('\\W', p)])\n",
    "        return to_return\n"
   ]
  },
  {
   "cell_type": "code",
   "execution_count": 72,
   "metadata": {
    "ExecuteTime": {
     "end_time": "2023-05-16T21:41:08.677295800Z",
     "start_time": "2023-05-16T21:40:08.459199100Z"
    }
   },
   "outputs": [
    {
     "name": "stderr",
     "output_type": "stream",
     "text": [
      "Adding boundaries: 100%|█████████████████████████████████| 11909/11909 [00:00<00:00, 1436912.90it/s]\n",
      "Making and counting Unigrams: 100%|█████████████████████████| 11909/11909 [00:06<00:00, 1932.61it/s]\n",
      "Making and counting Bigrams: 100%|███████████████████████████| 11909/11909 [00:44<00:00, 268.43it/s]\n"
     ]
    }
   ],
   "source": [
    "#import Model\n",
    "from corpusreader import CorpusReader\n",
    "import pandas as pd\n",
    "\n",
    "reader = CorpusReader(\"./train\")\n",
    "model = BigramModel(reader.sents())"
   ]
  },
  {
   "cell_type": "code",
   "execution_count": 73,
   "outputs": [],
   "source": [
    "model.save_model('modelBig.p')"
   ],
   "metadata": {
    "collapsed": false,
    "ExecuteTime": {
     "end_time": "2023-05-16T21:41:17.107111700Z",
     "start_time": "2023-05-16T21:41:16.820107100Z"
    }
   }
  },
  {
   "cell_type": "code",
   "execution_count": 74,
   "outputs": [],
   "source": [
    "model2: BigramModel = BigramModel.load_model('modelBig.p')"
   ],
   "metadata": {
    "collapsed": false,
    "ExecuteTime": {
     "end_time": "2023-05-16T21:41:45.614519700Z",
     "start_time": "2023-05-16T21:41:45.435116300Z"
    }
   }
  },
  {
   "cell_type": "code",
   "execution_count": 75,
   "outputs": [
    {
     "data": {
      "text/plain": "                       bigram  count\n0                   (of, the)   1610\n1                    (<s>, i)   1049\n2                  (<s>, the)   1033\n3                   (in, the)    999\n4                   (<s>, he)    950\n...                       ...    ...\n96575         (lilac, before)      1\n96576     (before, breakfast)      1\n96577       (breakfast, with)      1\n96578    (great, unconscious)      1\n96579  (unconscious, gravity)      1\n\n[96580 rows x 2 columns]",
      "text/html": "<div>\n<style scoped>\n    .dataframe tbody tr th:only-of-type {\n        vertical-align: middle;\n    }\n\n    .dataframe tbody tr th {\n        vertical-align: top;\n    }\n\n    .dataframe thead th {\n        text-align: right;\n    }\n</style>\n<table border=\"1\" class=\"dataframe\">\n  <thead>\n    <tr style=\"text-align: right;\">\n      <th></th>\n      <th>bigram</th>\n      <th>count</th>\n    </tr>\n  </thead>\n  <tbody>\n    <tr>\n      <th>0</th>\n      <td>(of, the)</td>\n      <td>1610</td>\n    </tr>\n    <tr>\n      <th>1</th>\n      <td>(&lt;s&gt;, i)</td>\n      <td>1049</td>\n    </tr>\n    <tr>\n      <th>2</th>\n      <td>(&lt;s&gt;, the)</td>\n      <td>1033</td>\n    </tr>\n    <tr>\n      <th>3</th>\n      <td>(in, the)</td>\n      <td>999</td>\n    </tr>\n    <tr>\n      <th>4</th>\n      <td>(&lt;s&gt;, he)</td>\n      <td>950</td>\n    </tr>\n    <tr>\n      <th>...</th>\n      <td>...</td>\n      <td>...</td>\n    </tr>\n    <tr>\n      <th>96575</th>\n      <td>(lilac, before)</td>\n      <td>1</td>\n    </tr>\n    <tr>\n      <th>96576</th>\n      <td>(before, breakfast)</td>\n      <td>1</td>\n    </tr>\n    <tr>\n      <th>96577</th>\n      <td>(breakfast, with)</td>\n      <td>1</td>\n    </tr>\n    <tr>\n      <th>96578</th>\n      <td>(great, unconscious)</td>\n      <td>1</td>\n    </tr>\n    <tr>\n      <th>96579</th>\n      <td>(unconscious, gravity)</td>\n      <td>1</td>\n    </tr>\n  </tbody>\n</table>\n<p>96580 rows × 2 columns</p>\n</div>"
     },
     "execution_count": 75,
     "metadata": {},
     "output_type": "execute_result"
    }
   ],
   "source": [
    "model2.bigram_frequency_table"
   ],
   "metadata": {
    "collapsed": false,
    "ExecuteTime": {
     "end_time": "2023-05-16T21:41:52.509848200Z",
     "start_time": "2023-05-16T21:41:52.468235600Z"
    }
   }
  }
 ],
 "metadata": {
  "kernelspec": {
   "display_name": "Python 3 (ipykernel)",
   "language": "python",
   "name": "python3"
  },
  "language_info": {
   "codemirror_mode": {
    "name": "ipython",
    "version": 3
   },
   "file_extension": ".py",
   "mimetype": "text/x-python",
   "name": "python",
   "nbconvert_exporter": "python",
   "pygments_lexer": "ipython3",
   "version": "3.10.9"
  }
 },
 "nbformat": 4,
 "nbformat_minor": 2
}
