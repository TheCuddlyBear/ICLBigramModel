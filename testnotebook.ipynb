{
 "cells": [
  {
   "cell_type": "code",
   "execution_count": 10,
   "metadata": {},
   "outputs": [],
   "source": [
    "import re\n",
    "import pandas as pd\n",
    "from collections import Counter\n",
    "import nltk\n",
    "\n",
    "class Model:\n",
    "    def __init__(self, tokens: list):\n",
    "        self.tokens: list = self.addSentenceBoundaries([i.lower() for i in tokens if not re.match('\\W', i)], True)\n",
    "        self.frequencyTable: pd.DataFrame = pd.DataFrame(data={'bigram': [], 'count': []})\n",
    "        bigramCounts = self.countBigrams(self.tokens)\n",
    "        print(\"Bigram counting done!\")\n",
    "        bigramCountTuples = bigramCounts.most_common(len(bigramCounts))\n",
    "        l = len(bigramCountTuples)\n",
    "        self.printProgressBar(0, len(self.tokens), prefix = 'Progress:', suffix = 'Complete', length = 50)\n",
    "        for i, item in enumerate(bigramCountTuples):\n",
    "            self.frequencyTable.loc[len(self.frequencyTable.index)] = [item[0], item[1]]\n",
    "            self.printProgressBar(i+1, l, prefix = 'Progress:', suffix = 'Complete', length = 50)\n",
    "    \n",
    "    def countBigrams(self, tokens: list) -> Counter:\n",
    "        bigramCounts = Counter()\n",
    "        l = len(tokens)\n",
    "        self.printProgressBar(0, l, prefix='Counting Bigrams:', suffix= 'Complete', length = 50)\n",
    "        for i, sentence in enumerate(tokens):\n",
    "            bigrams: list = []\n",
    "            words: list = sentence.split(\" \")\n",
    "            words.remove(\"</s>\")\n",
    "            for i in range(len(words) - 1):\n",
    "                bigrams.append(words[i] + \" \" + words[i+1])\n",
    "            bigramCounts += Counter(bigrams)\n",
    "            self.printProgressBar(i+1, l, prefix='Counting Bigrams:', suffix= 'Complete', length = 50)\n",
    "        return bigramCounts\n",
    "\n",
    "    def addSentenceBoundaries(self, tokens: list, useProgressBar=False) -> list:\n",
    "        tokensWithBoundaries: list = []\n",
    "        if useProgressBar:\n",
    "            l = len(tokens)\n",
    "            self.printProgressBar(0, l, prefix = 'adding boundaries:', suffix = 'Complete', length = 50)\n",
    "        for i in range(len(tokens)):\n",
    "            s = \"<s> \" + tokens[i] + \" </s>\"\n",
    "            tokensWithBoundaries.append(s)\n",
    "            if useProgressBar:\n",
    "                self.printProgressBar(i+1, l, prefix = 'adding boundaries:', suffix = 'Complete', length = 50)\n",
    "        return tokensWithBoundaries\n",
    "\n",
    "    def printProgressBar(self, iteration, total, prefix = '', suffix = '', decimals = 1, length = 100, fill = '█', printEnd = \"\\r\"):\n",
    "        percent = (\"{0:.\" + str(decimals) + \"f}\").format(100 * (iteration / float(total)))\n",
    "        filledLength = int(length * iteration // total)\n",
    "        bar = fill * filledLength + '-' * (length - filledLength)\n",
    "        print(f'\\r{prefix} |{bar}| {percent}% {suffix}', end = printEnd)\n",
    "        # Print New Line on Complete\n",
    "        if iteration == total: \n",
    "            print()"
   ]
  },
  {
   "cell_type": "code",
   "execution_count": 12,
   "metadata": {},
   "outputs": [
    {
     "name": "stdout",
     "output_type": "stream",
     "text": [
      "Progress adding boundaries: |██████████████████████████████████████████████████| 100.0% Complete\n",
      "Bigram counting done!------------------------------------------------| 0.3% Complete\n",
      "Progress: |██████████████████████████████████████████████████| 100.0% Complete\n"
     ]
    }
   ],
   "source": [
    "#import Model\n",
    "from CorpusReader import CorpusReader\n",
    "import pandas as pd\n",
    "\n",
    "reader = CorpusReader(\"./train\")\n",
    "model = Model(reader.sents())"
   ]
  },
  {
   "cell_type": "code",
   "execution_count": 77,
   "metadata": {},
   "outputs": [],
   "source": [
    "with open(\"test.txt\", \"w\") as f:\n",
    "    f.write(str(dict(model.bigramCounts)))"
   ]
  },
  {
   "cell_type": "code",
   "execution_count": 10,
   "metadata": {},
   "outputs": [
    {
     "data": {
      "text/html": [
       "<div>\n",
       "<style scoped>\n",
       "    .dataframe tbody tr th:only-of-type {\n",
       "        vertical-align: middle;\n",
       "    }\n",
       "\n",
       "    .dataframe tbody tr th {\n",
       "        vertical-align: top;\n",
       "    }\n",
       "\n",
       "    .dataframe thead th {\n",
       "        text-align: right;\n",
       "    }\n",
       "</style>\n",
       "<table border=\"1\" class=\"dataframe\">\n",
       "  <thead>\n",
       "    <tr style=\"text-align: right;\">\n",
       "      <th></th>\n",
       "      <th>bigram</th>\n",
       "      <th>count</th>\n",
       "    </tr>\n",
       "  </thead>\n",
       "  <tbody>\n",
       "    <tr>\n",
       "      <th>0</th>\n",
       "      <td>of the</td>\n",
       "      <td>1439</td>\n",
       "    </tr>\n",
       "    <tr>\n",
       "      <th>1</th>\n",
       "      <td>&lt;s&gt; the</td>\n",
       "      <td>927</td>\n",
       "    </tr>\n",
       "    <tr>\n",
       "      <th>2</th>\n",
       "      <td>in the</td>\n",
       "      <td>874</td>\n",
       "    </tr>\n",
       "    <tr>\n",
       "      <th>3</th>\n",
       "      <td>&lt;s&gt; he</td>\n",
       "      <td>868</td>\n",
       "    </tr>\n",
       "    <tr>\n",
       "      <th>4</th>\n",
       "      <td>&lt;s&gt; i</td>\n",
       "      <td>489</td>\n",
       "    </tr>\n",
       "    <tr>\n",
       "      <th>...</th>\n",
       "      <td>...</td>\n",
       "      <td>...</td>\n",
       "    </tr>\n",
       "    <tr>\n",
       "      <th>95</th>\n",
       "      <td>when he</td>\n",
       "      <td>88</td>\n",
       "    </tr>\n",
       "    <tr>\n",
       "      <th>96</th>\n",
       "      <td>to a</td>\n",
       "      <td>88</td>\n",
       "    </tr>\n",
       "    <tr>\n",
       "      <th>97</th>\n",
       "      <td>but i</td>\n",
       "      <td>88</td>\n",
       "    </tr>\n",
       "    <tr>\n",
       "      <th>98</th>\n",
       "      <td>a sort</td>\n",
       "      <td>87</td>\n",
       "    </tr>\n",
       "    <tr>\n",
       "      <th>99</th>\n",
       "      <td>the first</td>\n",
       "      <td>87</td>\n",
       "    </tr>\n",
       "  </tbody>\n",
       "</table>\n",
       "<p>100 rows × 2 columns</p>\n",
       "</div>"
      ],
      "text/plain": [
       "       bigram  count\n",
       "0      of the   1439\n",
       "1     <s> the    927\n",
       "2      in the    874\n",
       "3      <s> he    868\n",
       "4       <s> i    489\n",
       "..        ...    ...\n",
       "95    when he     88\n",
       "96       to a     88\n",
       "97      but i     88\n",
       "98     a sort     87\n",
       "99  the first     87\n",
       "\n",
       "[100 rows x 2 columns]"
      ]
     },
     "execution_count": 10,
     "metadata": {},
     "output_type": "execute_result"
    }
   ],
   "source": [
    "model.frequencyTable.head(100)"
   ]
  },
  {
   "cell_type": "code",
   "execution_count": 81,
   "metadata": {},
   "outputs": [],
   "source": [
    "# Print iterations progress\n"
   ]
  },
  {
   "cell_type": "code",
   "execution_count": 83,
   "metadata": {},
   "outputs": [
    {
     "name": "stdout",
     "output_type": "stream",
     "text": [
      "Progress: |██████████████████████████████████████████████████| 100.0% Complete\n"
     ]
    }
   ],
   "source": [
    "import time\n",
    "\n",
    "# A List of Items\n",
    "items = list(range(0, 57))\n",
    "l = len(items)\n",
    "\n",
    "# Initial call to print 0% progress\n",
    "printProgressBar(0, l, prefix = 'Progress:', suffix = 'Complete', length = 50)\n",
    "for i, item in enumerate(items):\n",
    "    # Do stuff...\n",
    "    time.sleep(0.1)\n",
    "    # Update Progress Bar\n",
    "    printProgressBar(i + 1, l, prefix = 'Progress:', suffix = 'Complete', length = 50)"
   ]
  }
 ],
 "metadata": {
  "kernelspec": {
   "display_name": "Python 3",
   "language": "python",
   "name": "python3"
  },
  "language_info": {
   "codemirror_mode": {
    "name": "ipython",
    "version": 3
   },
   "file_extension": ".py",
   "mimetype": "text/x-python",
   "name": "python",
   "nbconvert_exporter": "python",
   "pygments_lexer": "ipython3",
   "version": "3.11.0"
  },
  "orig_nbformat": 4
 },
 "nbformat": 4,
 "nbformat_minor": 2
}
