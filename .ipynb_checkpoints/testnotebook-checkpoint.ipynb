{
 "cells": [
  {
   "cell_type": "code",
   "execution_count": 16,
   "metadata": {
    "ExecuteTime": {
     "end_time": "2023-05-16T12:48:19.483343500Z",
     "start_time": "2023-05-16T12:48:19.467677500Z"
    }
   },
   "outputs": [],
   "source": [
    "import re\n",
    "import pandas as pd\n",
    "from collections import Counter\n",
    "import nltk\n",
    "\n",
    "class BigramModel:\n",
    "    def __init__(self, tokens: list):\n",
    "        self.tokens: list = self.addSentenceBoundaries(tokens)\n",
    "        bigramCounts = self.countBigrams(self.tokens)\n",
    "        print(\"Bigram counting done!\")\n",
    "        bigramCountTuples = bigramCounts.most_common(len(bigramCounts))\n",
    "        self.frequencyTable: pd.DataFrame = pd.DataFrame(bigramCountTuples, columns=['bigram', 'count'])\n",
    "    \n",
    "    def countBigrams(self, tokens: list) -> Counter:\n",
    "        bigramCounts = Counter()\n",
    "        print(len(tokens))\n",
    "        l = len(tokens)\n",
    "        self.printProgressBar(0, l, prefix='Counting Bigrams:', suffix= 'Complete', length = 50)\n",
    "        for i, words in enumerate(tokens):\n",
    "            bigrams: list = []\n",
    "            for i in range(len(words) - 1):\n",
    "                bigrams.append(words[i] + \" \" + words[i+1])\n",
    "            bigramCounts += Counter(bigrams)\n",
    "            self.printProgressBar(i+1, l, prefix='Counting Bigrams:', suffix= 'Complete', length = 50)\n",
    "        return bigramCounts\n",
    "\n",
    "    def addSentenceBoundaries(self, tokens: list) -> list:\n",
    "        tokensWithoutPunctuation = self.removePunctuationTokens(tokens)\n",
    "        print(tokensWithoutPunctuation)\n",
    "        tokensWithBoundaries: list = []\n",
    "        l = len(tokensWithoutPunctuation)\n",
    "        self.printProgressBar(0, l, prefix = 'adding boundaries:', suffix = 'Complete', length = 50)\n",
    "        item: list\n",
    "        for i, item in enumerate(tokensWithoutPunctuation):\n",
    "            item.insert(0, \"<s>\")\n",
    "            item.append(\"</s>\")\n",
    "            self.printProgressBar(i+1, l, prefix = 'adding boundaries:', suffix = 'Complete', length = 50)\n",
    "        return tokensWithBoundaries\n",
    "\n",
    "    def removePunctuationTokens(self, tokens: list):\n",
    "        toReturn: list = []\n",
    "        for sent in tokens:\n",
    "            toReturn.append([p.lower() for p in sent if not re.match('\\W', p)])\n",
    "        return toReturn\n",
    "\n",
    "    def printProgressBar(self, iteration, total, prefix = '', suffix = '', decimals = 1, length = 100, fill = '█', printEnd = \"\\r\"):\n",
    "        percent = (\"{0:.\" + str(decimals) + \"f}\").format(100 * (iteration / float(total)))\n",
    "        filledLength = int(length * iteration // total)\n",
    "        bar = fill * filledLength + '-' * (length - filledLength)\n",
    "        print(f'\\r{prefix} |{bar}| {percent}% {suffix}', end = printEnd)\n",
    "        # Print New Line on Complete\n",
    "        if iteration == total: \n",
    "            print()"
   ]
  },
  {
   "cell_type": "code",
   "execution_count": 17,
   "metadata": {
    "ExecuteTime": {
     "end_time": "2023-05-16T12:48:26.071341200Z",
     "start_time": "2023-05-16T12:48:21.838842300Z"
    }
   },
   "outputs": [
    {
     "name": "stdout",
     "output_type": "stream",
     "text": [
      "adding boundaries: |██████████████████████████████████████████████████| 100.0% Complete\r\n",
      "0\n"
     ]
    },
    {
     "ename": "ZeroDivisionError",
     "evalue": "float division by zero",
     "output_type": "error",
     "traceback": [
      "\u001b[1;31m---------------------------------------------------------------------------\u001b[0m",
      "\u001b[1;31mZeroDivisionError\u001b[0m                         Traceback (most recent call last)",
      "Cell \u001b[1;32mIn[17], line 6\u001b[0m\n\u001b[0;32m      3\u001b[0m \u001b[38;5;28;01mimport\u001b[39;00m \u001b[38;5;21;01mpandas\u001b[39;00m \u001b[38;5;28;01mas\u001b[39;00m \u001b[38;5;21;01mpd\u001b[39;00m\n\u001b[0;32m      5\u001b[0m reader \u001b[38;5;241m=\u001b[39m CorpusReader(\u001b[38;5;124m\"\u001b[39m\u001b[38;5;124m./train\u001b[39m\u001b[38;5;124m\"\u001b[39m)\n\u001b[1;32m----> 6\u001b[0m model \u001b[38;5;241m=\u001b[39m \u001b[43mBigramModel\u001b[49m\u001b[43m(\u001b[49m\u001b[43mreader\u001b[49m\u001b[38;5;241;43m.\u001b[39;49m\u001b[43msents\u001b[49m\u001b[43m(\u001b[49m\u001b[43m)\u001b[49m\u001b[43m)\u001b[49m\n",
      "Cell \u001b[1;32mIn[16], line 9\u001b[0m, in \u001b[0;36mBigramModel.__init__\u001b[1;34m(self, tokens)\u001b[0m\n\u001b[0;32m      7\u001b[0m \u001b[38;5;28;01mdef\u001b[39;00m \u001b[38;5;21m__init__\u001b[39m(\u001b[38;5;28mself\u001b[39m, tokens: \u001b[38;5;28mlist\u001b[39m):\n\u001b[0;32m      8\u001b[0m     \u001b[38;5;28mself\u001b[39m\u001b[38;5;241m.\u001b[39mtokens: \u001b[38;5;28mlist\u001b[39m \u001b[38;5;241m=\u001b[39m \u001b[38;5;28mself\u001b[39m\u001b[38;5;241m.\u001b[39maddSentenceBoundaries(tokens)\n\u001b[1;32m----> 9\u001b[0m     bigramCounts \u001b[38;5;241m=\u001b[39m \u001b[38;5;28;43mself\u001b[39;49m\u001b[38;5;241;43m.\u001b[39;49m\u001b[43mcountBigrams\u001b[49m\u001b[43m(\u001b[49m\u001b[38;5;28;43mself\u001b[39;49m\u001b[38;5;241;43m.\u001b[39;49m\u001b[43mtokens\u001b[49m\u001b[43m)\u001b[49m\n\u001b[0;32m     10\u001b[0m     \u001b[38;5;28mprint\u001b[39m(\u001b[38;5;124m\"\u001b[39m\u001b[38;5;124mBigram counting done!\u001b[39m\u001b[38;5;124m\"\u001b[39m)\n\u001b[0;32m     11\u001b[0m     bigramCountTuples \u001b[38;5;241m=\u001b[39m bigramCounts\u001b[38;5;241m.\u001b[39mmost_common(\u001b[38;5;28mlen\u001b[39m(bigramCounts))\n",
      "Cell \u001b[1;32mIn[16], line 18\u001b[0m, in \u001b[0;36mBigramModel.countBigrams\u001b[1;34m(self, tokens)\u001b[0m\n\u001b[0;32m     16\u001b[0m \u001b[38;5;28mprint\u001b[39m(\u001b[38;5;28mlen\u001b[39m(tokens))\n\u001b[0;32m     17\u001b[0m l \u001b[38;5;241m=\u001b[39m \u001b[38;5;28mlen\u001b[39m(tokens)\n\u001b[1;32m---> 18\u001b[0m \u001b[38;5;28;43mself\u001b[39;49m\u001b[38;5;241;43m.\u001b[39;49m\u001b[43mprintProgressBar\u001b[49m\u001b[43m(\u001b[49m\u001b[38;5;241;43m0\u001b[39;49m\u001b[43m,\u001b[49m\u001b[43m \u001b[49m\u001b[43ml\u001b[49m\u001b[43m,\u001b[49m\u001b[43m \u001b[49m\u001b[43mprefix\u001b[49m\u001b[38;5;241;43m=\u001b[39;49m\u001b[38;5;124;43m'\u001b[39;49m\u001b[38;5;124;43mCounting Bigrams:\u001b[39;49m\u001b[38;5;124;43m'\u001b[39;49m\u001b[43m,\u001b[49m\u001b[43m \u001b[49m\u001b[43msuffix\u001b[49m\u001b[38;5;241;43m=\u001b[39;49m\u001b[43m \u001b[49m\u001b[38;5;124;43m'\u001b[39;49m\u001b[38;5;124;43mComplete\u001b[39;49m\u001b[38;5;124;43m'\u001b[39;49m\u001b[43m,\u001b[49m\u001b[43m \u001b[49m\u001b[43mlength\u001b[49m\u001b[43m \u001b[49m\u001b[38;5;241;43m=\u001b[39;49m\u001b[43m \u001b[49m\u001b[38;5;241;43m50\u001b[39;49m\u001b[43m)\u001b[49m\n\u001b[0;32m     19\u001b[0m \u001b[38;5;28;01mfor\u001b[39;00m i, words \u001b[38;5;129;01min\u001b[39;00m \u001b[38;5;28menumerate\u001b[39m(tokens):\n\u001b[0;32m     20\u001b[0m     bigrams: \u001b[38;5;28mlist\u001b[39m \u001b[38;5;241m=\u001b[39m []\n",
      "Cell \u001b[1;32mIn[16], line 46\u001b[0m, in \u001b[0;36mBigramModel.printProgressBar\u001b[1;34m(self, iteration, total, prefix, suffix, decimals, length, fill, printEnd)\u001b[0m\n\u001b[0;32m     45\u001b[0m \u001b[38;5;28;01mdef\u001b[39;00m \u001b[38;5;21mprintProgressBar\u001b[39m(\u001b[38;5;28mself\u001b[39m, iteration, total, prefix \u001b[38;5;241m=\u001b[39m \u001b[38;5;124m'\u001b[39m\u001b[38;5;124m'\u001b[39m, suffix \u001b[38;5;241m=\u001b[39m \u001b[38;5;124m'\u001b[39m\u001b[38;5;124m'\u001b[39m, decimals \u001b[38;5;241m=\u001b[39m \u001b[38;5;241m1\u001b[39m, length \u001b[38;5;241m=\u001b[39m \u001b[38;5;241m100\u001b[39m, fill \u001b[38;5;241m=\u001b[39m \u001b[38;5;124m'\u001b[39m\u001b[38;5;124m█\u001b[39m\u001b[38;5;124m'\u001b[39m, printEnd \u001b[38;5;241m=\u001b[39m \u001b[38;5;124m\"\u001b[39m\u001b[38;5;130;01m\\r\u001b[39;00m\u001b[38;5;124m\"\u001b[39m):\n\u001b[1;32m---> 46\u001b[0m     percent \u001b[38;5;241m=\u001b[39m (\u001b[38;5;124m\"\u001b[39m\u001b[38;5;124m{\u001b[39m\u001b[38;5;124m0:.\u001b[39m\u001b[38;5;124m\"\u001b[39m \u001b[38;5;241m+\u001b[39m \u001b[38;5;28mstr\u001b[39m(decimals) \u001b[38;5;241m+\u001b[39m \u001b[38;5;124m\"\u001b[39m\u001b[38;5;124mf}\u001b[39m\u001b[38;5;124m\"\u001b[39m)\u001b[38;5;241m.\u001b[39mformat(\u001b[38;5;241m100\u001b[39m \u001b[38;5;241m*\u001b[39m (\u001b[43miteration\u001b[49m\u001b[43m \u001b[49m\u001b[38;5;241;43m/\u001b[39;49m\u001b[43m \u001b[49m\u001b[38;5;28;43mfloat\u001b[39;49m\u001b[43m(\u001b[49m\u001b[43mtotal\u001b[49m\u001b[43m)\u001b[49m))\n\u001b[0;32m     47\u001b[0m     filledLength \u001b[38;5;241m=\u001b[39m \u001b[38;5;28mint\u001b[39m(length \u001b[38;5;241m*\u001b[39m iteration \u001b[38;5;241m/\u001b[39m\u001b[38;5;241m/\u001b[39m total)\n\u001b[0;32m     48\u001b[0m     bar \u001b[38;5;241m=\u001b[39m fill \u001b[38;5;241m*\u001b[39m filledLength \u001b[38;5;241m+\u001b[39m \u001b[38;5;124m'\u001b[39m\u001b[38;5;124m-\u001b[39m\u001b[38;5;124m'\u001b[39m \u001b[38;5;241m*\u001b[39m (length \u001b[38;5;241m-\u001b[39m filledLength)\n",
      "\u001b[1;31mZeroDivisionError\u001b[0m: float division by zero"
     ]
    }
   ],
   "source": [
    "#import Model\n",
    "from CorpusReader import CorpusReader\n",
    "import pandas as pd\n",
    "\n",
    "reader = CorpusReader(\"./train\")\n",
    "model = BigramModel(reader.sents())"
   ]
  }
 ],
 "metadata": {
  "kernelspec": {
   "display_name": "Python 3 (ipykernel)",
   "language": "python",
   "name": "python3"
  },
  "language_info": {
   "codemirror_mode": {
    "name": "ipython",
    "version": 3
   },
   "file_extension": ".py",
   "mimetype": "text/x-python",
   "name": "python",
   "nbconvert_exporter": "python",
   "pygments_lexer": "ipython3",
   "version": "3.10.9"
  }
 },
 "nbformat": 4,
 "nbformat_minor": 2
}
