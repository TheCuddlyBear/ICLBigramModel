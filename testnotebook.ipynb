{
 "cells": [
  {
   "cell_type": "code",
   "execution_count": 13,
   "metadata": {
    "ExecuteTime": {
     "end_time": "2023-05-16T16:38:57.272139500Z",
     "start_time": "2023-05-16T16:38:57.262250Z"
    }
   },
   "outputs": [],
   "source": [
    "import re\n",
    "import pandas as pd\n",
    "from collections import Counter\n",
    "from tqdm import tqdm\n",
    "\n",
    "\n",
    "class BigramModel:\n",
    "    def __init__(self, tokens: list):\n",
    "        if (tokens == None):\n",
    "            print(\"Tokens cannot be null!\")\n",
    "        else:\n",
    "            self.tokens: list = self._add_sentence_boundaries(tokens)\n",
    "            _bigram_counts = self._make_count_bigrams(self.tokens)\n",
    "            _bigram_count_tuples = _bigram_counts.most_common(len(_bigram_counts))\n",
    "            self.frequencyTable: pd.DataFrame = pd.DataFrame(_bigram_count_tuples, columns=['bigram', 'count'])\n",
    "\n",
    "    def probability(self, w: str, w_n: str, smooth_constant: float = 0.0) -> float:\n",
    "        pass\n",
    "\n",
    "    def perplexity(self, sent: list, smoothing_constant: float = 1.0) -> float:\n",
    "        pass\n",
    "\n",
    "    def choose_successor(self, word: str, smooth_constant: float = 0.0) -> str:\n",
    "        pass\n",
    "\n",
    "    def _make_count_bigrams(self, tokens: list) -> Counter:\n",
    "        \"\"\"\n",
    "        @param tokens: list of tokenized sentences\n",
    "        Takes a list of tokenized sentences and generates the appropriate bigrams and counts them\n",
    "        \"\"\"\n",
    "        bigram_counts = Counter()\n",
    "        for p, words in enumerate(tqdm(tokens, ncols=100, desc='Making and counting Bigrams')):\n",
    "            bigrams: list = []\n",
    "            for i in range(len(words) - 1):\n",
    "                bigrams.append((words[i], words[i + 1]))\n",
    "            bigram_counts += Counter(bigrams)\n",
    "        return bigram_counts\n",
    "\n",
    "    def _add_sentence_boundaries(self, tokens: list) -> list:\n",
    "        \"\"\"\n",
    "        @param tokens: list of tokenized sentences\n",
    "        Takes a list of tokenized sentences and adds sentence boundaries to all the sentences\n",
    "        \"\"\"\n",
    "        tokens_without_punctuation = self._remove_punctuation_tokens(tokens)\n",
    "        tokens_with_boundaries: list = []\n",
    "        item: list\n",
    "        for i, item in enumerate(tqdm(tokens_without_punctuation, ncols=100, desc='Adding boundaries')):\n",
    "            item.insert(0, \"<s>\")\n",
    "            item.append(\"</s>\")\n",
    "            tokens_with_boundaries.append(item)\n",
    "        return tokens_with_boundaries\n",
    "\n",
    "    def _remove_punctuation_tokens(self, tokens: list):\n",
    "        \"\"\"\n",
    "        @param tokens: list of tokenized sentences\n",
    "        Takes a list of tokenized sentences and removes the tokens that solemnly consist of punctuation from the list\n",
    "        \"\"\"\n",
    "        to_return: list = []\n",
    "        for sent in tokens:\n",
    "            to_return.append([p.lower() for p in sent if not re.match('\\W', p)])\n",
    "        return to_return"
   ]
  },
  {
   "cell_type": "code",
   "execution_count": 14,
   "metadata": {
    "ExecuteTime": {
     "end_time": "2023-05-16T16:39:41.692566100Z",
     "start_time": "2023-05-16T16:38:59.556028200Z"
    }
   },
   "outputs": [
    {
     "name": "stderr",
     "output_type": "stream",
     "text": [
      "Adding boundaries: 100%|█████████████████████████████████| 11909/11909 [00:00<00:00, 1315199.62it/s]\n",
      "Making and counting Bigrams: 100%|███████████████████████████| 11909/11909 [00:36<00:00, 323.57it/s]\n"
     ]
    }
   ],
   "source": [
    "#import Model\n",
    "from corpusreader import CorpusReader\n",
    "import pandas as pd\n",
    "\n",
    "reader = CorpusReader(\"./train\")\n",
    "model = BigramModel(reader.sents())"
   ]
  },
  {
   "cell_type": "code",
   "execution_count": 15,
   "outputs": [
    {
     "data": {
      "text/plain": "                       bigram  count\n0                   (of, the)   1610\n1                    (<s>, i)   1049\n2                  (<s>, the)   1033\n3                   (in, the)    999\n4                   (<s>, he)    950\n...                       ...    ...\n96575         (lilac, before)      1\n96576     (before, breakfast)      1\n96577       (breakfast, with)      1\n96578    (great, unconscious)      1\n96579  (unconscious, gravity)      1\n\n[96580 rows x 2 columns]",
      "text/html": "<div>\n<style scoped>\n    .dataframe tbody tr th:only-of-type {\n        vertical-align: middle;\n    }\n\n    .dataframe tbody tr th {\n        vertical-align: top;\n    }\n\n    .dataframe thead th {\n        text-align: right;\n    }\n</style>\n<table border=\"1\" class=\"dataframe\">\n  <thead>\n    <tr style=\"text-align: right;\">\n      <th></th>\n      <th>bigram</th>\n      <th>count</th>\n    </tr>\n  </thead>\n  <tbody>\n    <tr>\n      <th>0</th>\n      <td>(of, the)</td>\n      <td>1610</td>\n    </tr>\n    <tr>\n      <th>1</th>\n      <td>(&lt;s&gt;, i)</td>\n      <td>1049</td>\n    </tr>\n    <tr>\n      <th>2</th>\n      <td>(&lt;s&gt;, the)</td>\n      <td>1033</td>\n    </tr>\n    <tr>\n      <th>3</th>\n      <td>(in, the)</td>\n      <td>999</td>\n    </tr>\n    <tr>\n      <th>4</th>\n      <td>(&lt;s&gt;, he)</td>\n      <td>950</td>\n    </tr>\n    <tr>\n      <th>...</th>\n      <td>...</td>\n      <td>...</td>\n    </tr>\n    <tr>\n      <th>96575</th>\n      <td>(lilac, before)</td>\n      <td>1</td>\n    </tr>\n    <tr>\n      <th>96576</th>\n      <td>(before, breakfast)</td>\n      <td>1</td>\n    </tr>\n    <tr>\n      <th>96577</th>\n      <td>(breakfast, with)</td>\n      <td>1</td>\n    </tr>\n    <tr>\n      <th>96578</th>\n      <td>(great, unconscious)</td>\n      <td>1</td>\n    </tr>\n    <tr>\n      <th>96579</th>\n      <td>(unconscious, gravity)</td>\n      <td>1</td>\n    </tr>\n  </tbody>\n</table>\n<p>96580 rows × 2 columns</p>\n</div>"
     },
     "execution_count": 15,
     "metadata": {},
     "output_type": "execute_result"
    }
   ],
   "source": [
    "model.frequencyTable"
   ],
   "metadata": {
    "collapsed": false,
    "ExecuteTime": {
     "end_time": "2023-05-16T16:39:44.297779600Z",
     "start_time": "2023-05-16T16:39:44.266588500Z"
    }
   }
  }
 ],
 "metadata": {
  "kernelspec": {
   "display_name": "Python 3 (ipykernel)",
   "language": "python",
   "name": "python3"
  },
  "language_info": {
   "codemirror_mode": {
    "name": "ipython",
    "version": 3
   },
   "file_extension": ".py",
   "mimetype": "text/x-python",
   "name": "python",
   "nbconvert_exporter": "python",
   "pygments_lexer": "ipython3",
   "version": "3.10.9"
  }
 },
 "nbformat": 4,
 "nbformat_minor": 2
}
