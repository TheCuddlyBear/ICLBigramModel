{
 "cells": [
  {
   "cell_type": "code",
   "execution_count": 75,
   "metadata": {
    "ExecuteTime": {
     "end_time": "2023-05-21T20:30:12.254191200Z",
     "start_time": "2023-05-21T20:30:12.214900700Z"
    }
   },
   "outputs": [],
   "source": [
    "import math\n",
    "import pickle\n",
    "import re\n",
    "import pandas as pd\n",
    "from collections import Counter\n",
    "from tqdm import tqdm\n",
    "import random\n",
    "\n",
    "class BigramModel:\n",
    "    def __init__(self, tokens: list):\n",
    "        if tokens is None:\n",
    "            print(\"Tokens cannot be null!\")\n",
    "        else:\n",
    "            self.tokens: list = BigramModel.add_sentence_boundaries(tokens)\n",
    "            _unigram_counts = BigramModel.count_unigrams(self.tokens)\n",
    "            _unigram_counts_tuples = _unigram_counts.most_common(len(_unigram_counts))\n",
    "            self.unigrams = pd.DataFrame(_unigram_counts_tuples, columns=['unigram', 'count'])\n",
    "            #self.unigrams.drop(self.unigrams.loc[self.unigrams['unigram'] == '</s>'].index, inplace=True)\n",
    "            _bigram_counts = BigramModel.make_count_bigrams(self.tokens)\n",
    "            _bigram_count_tuples = _bigram_counts.most_common(len(_bigram_counts))\n",
    "            self.bigrams = pd.DataFrame(_bigram_count_tuples, columns=['bigram', 'count'])\n",
    "\n",
    "    def __setstate__(self, state):\n",
    "        self.unigrams = pd.DataFrame.from_dict(state['unigram_pickle'])\n",
    "        self.bigrams = pd.DataFrame.from_dict(state['bigram_pickle'])\n",
    "        self.tokens = state['tokens']\n",
    "\n",
    "    def __getstate__(self):\n",
    "        dict = {'bigram_pickle': self.bigrams.to_dict(),\n",
    "                'unigram_pickle': self.unigrams.to_dict(), 'tokens': self.tokens}\n",
    "        return dict\n",
    "\n",
    "    def probability(self, w: str, w_n: str, smoothing_constant: float = 0.0):\n",
    "        \"\"\"\n",
    "        @param w: The token we have just seen\n",
    "        @param w_n: the probability of seeing token w_n\n",
    "        @param smoothing_constant: the constant with which smoothing is applied\n",
    "        This function calculates the probability of seeing token w_n after seeing token w\n",
    "        \"\"\"\n",
    "        bigram: tuple = (w, w_n)\n",
    "        bigram_count = self.bigrams.loc[self.bigrams['bigram'] == bigram]['count'].tolist()\n",
    "        unigram_count = self.unigrams.loc[self.unigrams['unigram'] == w_n]['count'].tolist()\n",
    "\n",
    "        if smoothing_constant == 0.0:\n",
    "            # Locate the bigram or unigram we want the probability of\n",
    "            if len(bigram_count) != 0 and len(unigram_count) !=0:\n",
    "                return bigram_count[0] / unigram_count[0]\n",
    "            else:\n",
    "                return 0.0\n",
    "        else:\n",
    "            total_words = len(self.unigrams)\n",
    "\n",
    "            if len(bigram_count) == 0 and len(unigram_count) == 0:\n",
    "                bigram_count = 0.0\n",
    "                unigram_count = 0.0\n",
    "                t = bigram_count + smoothing_constant\n",
    "                n = unigram_count + smoothing_constant * total_words\n",
    "                return t / n\n",
    "            elif len(bigram_count) != 0 and len(unigram_count) != 0:\n",
    "                t = bigram_count[0] + smoothing_constant\n",
    "                n = unigram_count[0] + smoothing_constant * total_words\n",
    "                return t / n\n",
    "\n",
    "\n",
    "    def perplexity(self, sent: list, smoothing_constant: float = 1.0) -> float:\n",
    "        \"\"\"\n",
    "        @param sent: Sentence in the form of a list of tokens\n",
    "        @param smoothing_constant: The constant used to apply smoothing\n",
    "        This calculates the perplexity of the given sentence.\n",
    "        \"\"\"\n",
    "        if '<s>' not in sent:\n",
    "            sent.insert(0, '<s>')\n",
    "            sent.append('</s>')\n",
    "            words = [p.lower() for p in sent if not re.match('\\W', p)]\n",
    "        n = len(sent)\n",
    "        probs = []\n",
    "        for i in range(n - 1):\n",
    "            probability = math.log(self.probability(sent[i], sent[i + 1], smoothing_constant))\n",
    "            q = -probability\n",
    "            probs.append(q)\n",
    "        s = sum(probs)\n",
    "        return math.exp(s * (1/n))\n",
    "\n",
    "    def choose_successor(self, word: str, smoothing_constant: float = 0.0) -> str | None:\n",
    "        \"\"\"\n",
    "        @param word: The word/token for which to generate the successor\n",
    "        @param smoothing_constant: The constant used to apply smoothing\n",
    "        This function uses the probability function to randomly but based on probabilities\n",
    "        choose a successor to the token given.\n",
    "        \"\"\"\n",
    "        try:\n",
    "            unigram_count = \\\n",
    "                self.unigrams.loc[self.unigrams['unigram'] == word]['count'].tolist()[0]\n",
    "        except:\n",
    "            return None\n",
    "\n",
    "        possible_bigrams = \\\n",
    "            self.bigrams[self.bigrams['bigram'].apply(lambda x: x[0] == word)][\n",
    "                'bigram'].tolist()\n",
    "        prob2 = []\n",
    "        for bigram in tqdm(possible_bigrams, ncols=100, desc=f\"Choosing successor for: {word}\"):\n",
    "            prob2.append(self.probability(word, bigram[1], 0.0))\n",
    "        successor: tuple = random.choices(possible_bigrams, weights=prob2, k=1)\n",
    "        return successor[0][1]\n",
    "\n",
    "    def save_model(self, location: str):\n",
    "        \"\"\"\n",
    "        @param location: Path to where the model should be stored\n",
    "        Uses pickle to store the model into a file to be loaded back in later\n",
    "        \"\"\"\n",
    "        with open(location, 'wb') as f:\n",
    "            pickle.dump(self, f)\n",
    "\n",
    "    @staticmethod\n",
    "    def load_model(location: str):\n",
    "        \"\"\"\n",
    "        @param location: Path to where the model is stored\n",
    "        Uses to pickle to load a store model back in to e.g. a variable.\n",
    "        \"\"\"\n",
    "        with open(location, 'rb') as f:\n",
    "            return pickle.load(f)\n",
    "\n",
    "    @staticmethod\n",
    "    def count_unigrams(tokens: list) -> Counter:\n",
    "        \"\"\"\n",
    "        @param tokens: list of tokenized sentences\n",
    "        Takes a list of tokenized sentences and generates the appropriate unigrams and counts them\n",
    "        \"\"\"\n",
    "        totWords: list = []\n",
    "        for p, words in enumerate(\n",
    "                tqdm(tokens, ncols=100, desc='Making and counting Unigrams')):  # tqdm prints a progressbar\n",
    "            for word in words:\n",
    "                totWords.append(word)\n",
    "        return Counter(totWords)\n",
    "\n",
    "    @staticmethod\n",
    "    def make_count_bigrams(tokens: list) -> Counter:\n",
    "        \"\"\"\n",
    "        @param tokens: list of tokenized sentences\n",
    "        Takes a list of tokenized sentences and generates the appropriate bigrams and counts them\n",
    "        \"\"\"\n",
    "        # bigram_counts = Counter()\n",
    "        bigrams: list = []\n",
    "        for p, words in enumerate(tqdm(tokens, ncols=100, desc='Making and counting Bigrams')):  # tqdm prints a progressbar\n",
    "            #words.remove(\"</s>\")\n",
    "            for i in range(len(words) - 1):\n",
    "                bigrams.append((words[i], words[i + 1]))\n",
    "        return Counter(bigrams)\n",
    "\n",
    "    @staticmethod\n",
    "    def add_sentence_boundaries(tokens: list) -> list:\n",
    "        \"\"\"\n",
    "        @param tokens: list of tokenized sentences\n",
    "        Takes a list of tokenized sentences and adds sentence boundaries to all the sentences\n",
    "        \"\"\"\n",
    "        tokens_without_punctuation = BigramModel.remove_punctuation_tokens(tokens)\n",
    "        tokens_with_boundaries: list = []\n",
    "        item: list\n",
    "        for i, item in enumerate(\n",
    "                tqdm(tokens_without_punctuation, ncols=100, desc='Adding boundaries')):  # tqdm prints a progressbar\n",
    "            item.insert(0, \"<s>\")\n",
    "            item.append(\"</s>\")\n",
    "            tokens_with_boundaries.append(item)\n",
    "        return tokens_with_boundaries\n",
    "\n",
    "    @staticmethod\n",
    "    def remove_punctuation_tokens(tokens: list):\n",
    "        \"\"\"\n",
    "        @param tokens: list of tokenized sentences\n",
    "        Takes a list of tokenized sentences and removes the tokens that solemnly consist of punctuation from the list\n",
    "        \"\"\"\n",
    "        to_return: list = []\n",
    "        for sent in tokens:\n",
    "            to_return.append([p.lower() for p in sent if not re.match('\\W', p)])\n",
    "        return to_return\n"
   ]
  },
  {
   "cell_type": "code",
   "execution_count": 76,
   "metadata": {
    "ExecuteTime": {
     "end_time": "2023-05-21T20:31:42.903626200Z",
     "start_time": "2023-05-21T20:30:18.963850200Z"
    }
   },
   "outputs": [
    {
     "name": "stderr",
     "output_type": "stream",
     "text": [
      "Adding boundaries: 100%|█████████████████████████████████| 29929/29929 [00:00<00:00, 1078466.33it/s]\n",
      "Making and counting Unigrams: 100%|███████████████████████| 29929/29929 [00:00<00:00, 262448.18it/s]\n",
      "Making and counting Bigrams: 100%|█████████████████████████| 29929/29929 [00:00<00:00, 99004.62it/s]\n"
     ]
    }
   ],
   "source": [
    "#import Model\n",
    "from corpusreader import CorpusReader\n",
    "import pandas as pd\n",
    "\n",
    "reader = CorpusReader(\"./bible\")\n",
    "model = BigramModel(reader.sents())"
   ]
  },
  {
   "cell_type": "code",
   "execution_count": 77,
   "outputs": [],
   "source": [
    "model.save_model(\"bible.p\")"
   ],
   "metadata": {
    "collapsed": false,
    "ExecuteTime": {
     "end_time": "2023-05-21T20:32:05.759548200Z",
     "start_time": "2023-05-21T20:32:04.168996300Z"
    }
   }
  },
  {
   "cell_type": "code",
   "execution_count": 78,
   "outputs": [
    {
     "name": "stderr",
     "output_type": "stream",
     "text": [
      "Choosing successor for: <s>:   6%|█▉                             | 288/4575 [00:13<03:13, 22.14it/s]\n"
     ]
    },
    {
     "ename": "KeyboardInterrupt",
     "evalue": "",
     "output_type": "error",
     "traceback": [
      "\u001B[1;31m---------------------------------------------------------------------------\u001B[0m",
      "\u001B[1;31mKeyboardInterrupt\u001B[0m                         Traceback (most recent call last)",
      "Cell \u001B[1;32mIn[78], line 1\u001B[0m\n\u001B[1;32m----> 1\u001B[0m successor \u001B[38;5;241m=\u001B[39m \u001B[43mmodel\u001B[49m\u001B[38;5;241;43m.\u001B[39;49m\u001B[43mchoose_successor\u001B[49m\u001B[43m(\u001B[49m\u001B[38;5;124;43m'\u001B[39;49m\u001B[38;5;124;43m<s>\u001B[39;49m\u001B[38;5;124;43m'\u001B[39;49m\u001B[43m)\u001B[49m\n",
      "Cell \u001B[1;32mIn[75], line 102\u001B[0m, in \u001B[0;36mBigramModel.choose_successor\u001B[1;34m(self, word, smoothing_constant)\u001B[0m\n\u001B[0;32m    100\u001B[0m prob2 \u001B[38;5;241m=\u001B[39m []\n\u001B[0;32m    101\u001B[0m \u001B[38;5;28;01mfor\u001B[39;00m bigram \u001B[38;5;129;01min\u001B[39;00m tqdm(possible_bigrams, ncols\u001B[38;5;241m=\u001B[39m\u001B[38;5;241m100\u001B[39m, desc\u001B[38;5;241m=\u001B[39m\u001B[38;5;124mf\u001B[39m\u001B[38;5;124m\"\u001B[39m\u001B[38;5;124mChoosing successor for: \u001B[39m\u001B[38;5;132;01m{\u001B[39;00mword\u001B[38;5;132;01m}\u001B[39;00m\u001B[38;5;124m\"\u001B[39m):\n\u001B[1;32m--> 102\u001B[0m     prob2\u001B[38;5;241m.\u001B[39mappend(\u001B[38;5;28;43mself\u001B[39;49m\u001B[38;5;241;43m.\u001B[39;49m\u001B[43mprobability\u001B[49m\u001B[43m(\u001B[49m\u001B[43mword\u001B[49m\u001B[43m,\u001B[49m\u001B[43m \u001B[49m\u001B[43mbigram\u001B[49m\u001B[43m[\u001B[49m\u001B[38;5;241;43m1\u001B[39;49m\u001B[43m]\u001B[49m\u001B[43m,\u001B[49m\u001B[43m \u001B[49m\u001B[38;5;241;43m0.0\u001B[39;49m\u001B[43m)\u001B[49m)\n\u001B[0;32m    103\u001B[0m successor: \u001B[38;5;28mtuple\u001B[39m \u001B[38;5;241m=\u001B[39m random\u001B[38;5;241m.\u001B[39mchoices(possible_bigrams, weights\u001B[38;5;241m=\u001B[39mprob2, k\u001B[38;5;241m=\u001B[39m\u001B[38;5;241m1\u001B[39m)\n\u001B[0;32m    104\u001B[0m \u001B[38;5;28;01mreturn\u001B[39;00m successor[\u001B[38;5;241m0\u001B[39m][\u001B[38;5;241m1\u001B[39m]\n",
      "Cell \u001B[1;32mIn[75], line 41\u001B[0m, in \u001B[0;36mBigramModel.probability\u001B[1;34m(self, w, w_n, smoothing_constant)\u001B[0m\n\u001B[0;32m     34\u001B[0m \u001B[38;5;124;03m\"\"\"\u001B[39;00m\n\u001B[0;32m     35\u001B[0m \u001B[38;5;124;03m@param w: The token we have just seen\u001B[39;00m\n\u001B[0;32m     36\u001B[0m \u001B[38;5;124;03m@param w_n: the probability of seeing token w_n\u001B[39;00m\n\u001B[0;32m     37\u001B[0m \u001B[38;5;124;03m@param smoothing_constant: the constant with which smoothing is applied\u001B[39;00m\n\u001B[0;32m     38\u001B[0m \u001B[38;5;124;03mThis function calculates the probability of seeing token w_n after seeing token w\u001B[39;00m\n\u001B[0;32m     39\u001B[0m \u001B[38;5;124;03m\"\"\"\u001B[39;00m\n\u001B[0;32m     40\u001B[0m bigram: \u001B[38;5;28mtuple\u001B[39m \u001B[38;5;241m=\u001B[39m (w, w_n)\n\u001B[1;32m---> 41\u001B[0m bigram_count \u001B[38;5;241m=\u001B[39m \u001B[38;5;28mself\u001B[39m\u001B[38;5;241m.\u001B[39mbigrams\u001B[38;5;241m.\u001B[39mloc[\u001B[38;5;28;43mself\u001B[39;49m\u001B[38;5;241;43m.\u001B[39;49m\u001B[43mbigrams\u001B[49m\u001B[43m[\u001B[49m\u001B[38;5;124;43m'\u001B[39;49m\u001B[38;5;124;43mbigram\u001B[39;49m\u001B[38;5;124;43m'\u001B[39;49m\u001B[43m]\u001B[49m\u001B[43m \u001B[49m\u001B[38;5;241;43m==\u001B[39;49m\u001B[43m \u001B[49m\u001B[43mbigram\u001B[49m][\u001B[38;5;124m'\u001B[39m\u001B[38;5;124mcount\u001B[39m\u001B[38;5;124m'\u001B[39m]\u001B[38;5;241m.\u001B[39mtolist()\n\u001B[0;32m     42\u001B[0m unigram_count \u001B[38;5;241m=\u001B[39m \u001B[38;5;28mself\u001B[39m\u001B[38;5;241m.\u001B[39munigrams\u001B[38;5;241m.\u001B[39mloc[\u001B[38;5;28mself\u001B[39m\u001B[38;5;241m.\u001B[39munigrams[\u001B[38;5;124m'\u001B[39m\u001B[38;5;124munigram\u001B[39m\u001B[38;5;124m'\u001B[39m] \u001B[38;5;241m==\u001B[39m w_n][\u001B[38;5;124m'\u001B[39m\u001B[38;5;124mcount\u001B[39m\u001B[38;5;124m'\u001B[39m]\u001B[38;5;241m.\u001B[39mtolist()\n\u001B[0;32m     44\u001B[0m \u001B[38;5;28;01mif\u001B[39;00m smoothing_constant \u001B[38;5;241m==\u001B[39m \u001B[38;5;241m0.0\u001B[39m:\n\u001B[0;32m     45\u001B[0m     \u001B[38;5;66;03m# Locate the bigram or unigram we want the probability of\u001B[39;00m\n",
      "File \u001B[1;32mC:\\ProgramData\\anaconda3\\lib\\site-packages\\pandas\\core\\ops\\common.py:72\u001B[0m, in \u001B[0;36m_unpack_zerodim_and_defer.<locals>.new_method\u001B[1;34m(self, other)\u001B[0m\n\u001B[0;32m     68\u001B[0m             \u001B[38;5;28;01mreturn\u001B[39;00m \u001B[38;5;28mNotImplemented\u001B[39m\n\u001B[0;32m     70\u001B[0m other \u001B[38;5;241m=\u001B[39m item_from_zerodim(other)\n\u001B[1;32m---> 72\u001B[0m \u001B[38;5;28;01mreturn\u001B[39;00m \u001B[43mmethod\u001B[49m\u001B[43m(\u001B[49m\u001B[38;5;28;43mself\u001B[39;49m\u001B[43m,\u001B[49m\u001B[43m \u001B[49m\u001B[43mother\u001B[49m\u001B[43m)\u001B[49m\n",
      "File \u001B[1;32mC:\\ProgramData\\anaconda3\\lib\\site-packages\\pandas\\core\\arraylike.py:42\u001B[0m, in \u001B[0;36mOpsMixin.__eq__\u001B[1;34m(self, other)\u001B[0m\n\u001B[0;32m     40\u001B[0m \u001B[38;5;129m@unpack_zerodim_and_defer\u001B[39m(\u001B[38;5;124m\"\u001B[39m\u001B[38;5;124m__eq__\u001B[39m\u001B[38;5;124m\"\u001B[39m)\n\u001B[0;32m     41\u001B[0m \u001B[38;5;28;01mdef\u001B[39;00m \u001B[38;5;21m__eq__\u001B[39m(\u001B[38;5;28mself\u001B[39m, other):\n\u001B[1;32m---> 42\u001B[0m     \u001B[38;5;28;01mreturn\u001B[39;00m \u001B[38;5;28;43mself\u001B[39;49m\u001B[38;5;241;43m.\u001B[39;49m\u001B[43m_cmp_method\u001B[49m\u001B[43m(\u001B[49m\u001B[43mother\u001B[49m\u001B[43m,\u001B[49m\u001B[43m \u001B[49m\u001B[43moperator\u001B[49m\u001B[38;5;241;43m.\u001B[39;49m\u001B[43meq\u001B[49m\u001B[43m)\u001B[49m\n",
      "File \u001B[1;32mC:\\ProgramData\\anaconda3\\lib\\site-packages\\pandas\\core\\series.py:6243\u001B[0m, in \u001B[0;36mSeries._cmp_method\u001B[1;34m(self, other, op)\u001B[0m\n\u001B[0;32m   6240\u001B[0m rvalues \u001B[38;5;241m=\u001B[39m extract_array(other, extract_numpy\u001B[38;5;241m=\u001B[39m\u001B[38;5;28;01mTrue\u001B[39;00m, extract_range\u001B[38;5;241m=\u001B[39m\u001B[38;5;28;01mTrue\u001B[39;00m)\n\u001B[0;32m   6242\u001B[0m \u001B[38;5;28;01mwith\u001B[39;00m np\u001B[38;5;241m.\u001B[39merrstate(\u001B[38;5;28mall\u001B[39m\u001B[38;5;241m=\u001B[39m\u001B[38;5;124m\"\u001B[39m\u001B[38;5;124mignore\u001B[39m\u001B[38;5;124m\"\u001B[39m):\n\u001B[1;32m-> 6243\u001B[0m     res_values \u001B[38;5;241m=\u001B[39m \u001B[43mops\u001B[49m\u001B[38;5;241;43m.\u001B[39;49m\u001B[43mcomparison_op\u001B[49m\u001B[43m(\u001B[49m\u001B[43mlvalues\u001B[49m\u001B[43m,\u001B[49m\u001B[43m \u001B[49m\u001B[43mrvalues\u001B[49m\u001B[43m,\u001B[49m\u001B[43m \u001B[49m\u001B[43mop\u001B[49m\u001B[43m)\u001B[49m\n\u001B[0;32m   6245\u001B[0m \u001B[38;5;28;01mreturn\u001B[39;00m \u001B[38;5;28mself\u001B[39m\u001B[38;5;241m.\u001B[39m_construct_result(res_values, name\u001B[38;5;241m=\u001B[39mres_name)\n",
      "File \u001B[1;32mC:\\ProgramData\\anaconda3\\lib\\site-packages\\pandas\\core\\ops\\array_ops.py:287\u001B[0m, in \u001B[0;36mcomparison_op\u001B[1;34m(left, right, op)\u001B[0m\n\u001B[0;32m    284\u001B[0m     \u001B[38;5;28;01mreturn\u001B[39;00m invalid_comparison(lvalues, rvalues, op)\n\u001B[0;32m    286\u001B[0m \u001B[38;5;28;01melif\u001B[39;00m is_object_dtype(lvalues\u001B[38;5;241m.\u001B[39mdtype) \u001B[38;5;129;01mor\u001B[39;00m \u001B[38;5;28misinstance\u001B[39m(rvalues, \u001B[38;5;28mstr\u001B[39m):\n\u001B[1;32m--> 287\u001B[0m     res_values \u001B[38;5;241m=\u001B[39m \u001B[43mcomp_method_OBJECT_ARRAY\u001B[49m\u001B[43m(\u001B[49m\u001B[43mop\u001B[49m\u001B[43m,\u001B[49m\u001B[43m \u001B[49m\u001B[43mlvalues\u001B[49m\u001B[43m,\u001B[49m\u001B[43m \u001B[49m\u001B[43mrvalues\u001B[49m\u001B[43m)\u001B[49m\n\u001B[0;32m    289\u001B[0m \u001B[38;5;28;01melse\u001B[39;00m:\n\u001B[0;32m    290\u001B[0m     res_values \u001B[38;5;241m=\u001B[39m _na_arithmetic_op(lvalues, rvalues, op, is_cmp\u001B[38;5;241m=\u001B[39m\u001B[38;5;28;01mTrue\u001B[39;00m)\n",
      "File \u001B[1;32mC:\\ProgramData\\anaconda3\\lib\\site-packages\\pandas\\core\\ops\\array_ops.py:76\u001B[0m, in \u001B[0;36mcomp_method_OBJECT_ARRAY\u001B[1;34m(op, x, y)\u001B[0m\n\u001B[0;32m     74\u001B[0m \u001B[38;5;28;01melse\u001B[39;00m:\n\u001B[0;32m     75\u001B[0m     result \u001B[38;5;241m=\u001B[39m libops\u001B[38;5;241m.\u001B[39mscalar_compare(x\u001B[38;5;241m.\u001B[39mravel(), y, op)\n\u001B[1;32m---> 76\u001B[0m \u001B[38;5;28;01mreturn\u001B[39;00m \u001B[43mresult\u001B[49m\u001B[38;5;241;43m.\u001B[39;49m\u001B[43mreshape\u001B[49m\u001B[43m(\u001B[49m\u001B[43mx\u001B[49m\u001B[38;5;241;43m.\u001B[39;49m\u001B[43mshape\u001B[49m\u001B[43m)\u001B[49m\n",
      "\u001B[1;31mKeyboardInterrupt\u001B[0m: "
     ]
    }
   ],
   "source": [
    "successor = model.choose_successor('<s>')"
   ],
   "metadata": {
    "collapsed": false,
    "ExecuteTime": {
     "end_time": "2023-05-21T20:32:30.939915600Z",
     "start_time": "2023-05-21T20:32:16.456936300Z"
    }
   }
  },
  {
   "cell_type": "code",
   "execution_count": 79,
   "outputs": [
    {
     "name": "stderr",
     "output_type": "stream",
     "text": [
      "Choosing successor for: <s>: 100%|██████████████████████████████| 4575/4575 [03:23<00:00, 22.44it/s]\n",
      "Choosing successor for: 27:44: 100%|██████████████████████████████████| 2/2 [00:00<00:00, 25.44it/s]\n",
      "Choosing successor for: and:   9%|██▋                            | 380/4331 [00:15<02:45, 23.89it/s]\n"
     ]
    },
    {
     "ename": "KeyboardInterrupt",
     "evalue": "",
     "output_type": "error",
     "traceback": [
      "\u001B[1;31m---------------------------------------------------------------------------\u001B[0m",
      "\u001B[1;31mKeyboardInterrupt\u001B[0m                         Traceback (most recent call last)",
      "Cell \u001B[1;32mIn[79], line 3\u001B[0m\n\u001B[0;32m      1\u001B[0m \u001B[38;5;28;01mfrom\u001B[39;00m \u001B[38;5;21;01mgenerate\u001B[39;00m \u001B[38;5;28;01mimport\u001B[39;00m \u001B[38;5;241m*\u001B[39m\n\u001B[1;32m----> 3\u001B[0m sent \u001B[38;5;241m=\u001B[39m \u001B[43mgenerate_sentence\u001B[49m\u001B[43m(\u001B[49m\u001B[43mmodel\u001B[49m\u001B[43m)\u001B[49m\n\u001B[0;32m      4\u001B[0m \u001B[38;5;28mprint\u001B[39m(sent)\n",
      "File \u001B[1;32m~\\PycharmProjects\\ICLBigramModel\\generate.py:10\u001B[0m, in \u001B[0;36mgenerate_sentence\u001B[1;34m(model, smoothing_constant)\u001B[0m\n\u001B[0;32m      8\u001B[0m sent \u001B[38;5;241m=\u001B[39m [\u001B[38;5;124m'\u001B[39m\u001B[38;5;124m<s>\u001B[39m\u001B[38;5;124m'\u001B[39m]\n\u001B[0;32m      9\u001B[0m \u001B[38;5;28;01mwhile\u001B[39;00m sent[\u001B[38;5;28mlen\u001B[39m(sent) \u001B[38;5;241m-\u001B[39m \u001B[38;5;241m1\u001B[39m] \u001B[38;5;241m!=\u001B[39m \u001B[38;5;124m'\u001B[39m\u001B[38;5;124m</s>\u001B[39m\u001B[38;5;124m'\u001B[39m:\n\u001B[1;32m---> 10\u001B[0m     successor \u001B[38;5;241m=\u001B[39m \u001B[43mmodel\u001B[49m\u001B[38;5;241;43m.\u001B[39;49m\u001B[43mchoose_successor\u001B[49m\u001B[43m(\u001B[49m\u001B[43msent\u001B[49m\u001B[43m[\u001B[49m\u001B[38;5;28;43mlen\u001B[39;49m\u001B[43m(\u001B[49m\u001B[43msent\u001B[49m\u001B[43m)\u001B[49m\u001B[43m \u001B[49m\u001B[38;5;241;43m-\u001B[39;49m\u001B[43m \u001B[49m\u001B[38;5;241;43m1\u001B[39;49m\u001B[43m]\u001B[49m\u001B[43m,\u001B[49m\u001B[43m \u001B[49m\u001B[43msmoothing_constant\u001B[49m\u001B[38;5;241;43m=\u001B[39;49m\u001B[43msmoothing_constant\u001B[49m\u001B[43m)\u001B[49m\n\u001B[0;32m     11\u001B[0m     sent\u001B[38;5;241m.\u001B[39mappend(successor)\n\u001B[0;32m     12\u001B[0m \u001B[38;5;28;01mreturn\u001B[39;00m sent\n",
      "Cell \u001B[1;32mIn[75], line 102\u001B[0m, in \u001B[0;36mBigramModel.choose_successor\u001B[1;34m(self, word, smoothing_constant)\u001B[0m\n\u001B[0;32m    100\u001B[0m prob2 \u001B[38;5;241m=\u001B[39m []\n\u001B[0;32m    101\u001B[0m \u001B[38;5;28;01mfor\u001B[39;00m bigram \u001B[38;5;129;01min\u001B[39;00m tqdm(possible_bigrams, ncols\u001B[38;5;241m=\u001B[39m\u001B[38;5;241m100\u001B[39m, desc\u001B[38;5;241m=\u001B[39m\u001B[38;5;124mf\u001B[39m\u001B[38;5;124m\"\u001B[39m\u001B[38;5;124mChoosing successor for: \u001B[39m\u001B[38;5;132;01m{\u001B[39;00mword\u001B[38;5;132;01m}\u001B[39;00m\u001B[38;5;124m\"\u001B[39m):\n\u001B[1;32m--> 102\u001B[0m     prob2\u001B[38;5;241m.\u001B[39mappend(\u001B[38;5;28;43mself\u001B[39;49m\u001B[38;5;241;43m.\u001B[39;49m\u001B[43mprobability\u001B[49m\u001B[43m(\u001B[49m\u001B[43mword\u001B[49m\u001B[43m,\u001B[49m\u001B[43m \u001B[49m\u001B[43mbigram\u001B[49m\u001B[43m[\u001B[49m\u001B[38;5;241;43m1\u001B[39;49m\u001B[43m]\u001B[49m\u001B[43m,\u001B[49m\u001B[43m \u001B[49m\u001B[38;5;241;43m0.0\u001B[39;49m\u001B[43m)\u001B[49m)\n\u001B[0;32m    103\u001B[0m successor: \u001B[38;5;28mtuple\u001B[39m \u001B[38;5;241m=\u001B[39m random\u001B[38;5;241m.\u001B[39mchoices(possible_bigrams, weights\u001B[38;5;241m=\u001B[39mprob2, k\u001B[38;5;241m=\u001B[39m\u001B[38;5;241m1\u001B[39m)\n\u001B[0;32m    104\u001B[0m \u001B[38;5;28;01mreturn\u001B[39;00m successor[\u001B[38;5;241m0\u001B[39m][\u001B[38;5;241m1\u001B[39m]\n",
      "Cell \u001B[1;32mIn[75], line 41\u001B[0m, in \u001B[0;36mBigramModel.probability\u001B[1;34m(self, w, w_n, smoothing_constant)\u001B[0m\n\u001B[0;32m     34\u001B[0m \u001B[38;5;124;03m\"\"\"\u001B[39;00m\n\u001B[0;32m     35\u001B[0m \u001B[38;5;124;03m@param w: The token we have just seen\u001B[39;00m\n\u001B[0;32m     36\u001B[0m \u001B[38;5;124;03m@param w_n: the probability of seeing token w_n\u001B[39;00m\n\u001B[0;32m     37\u001B[0m \u001B[38;5;124;03m@param smoothing_constant: the constant with which smoothing is applied\u001B[39;00m\n\u001B[0;32m     38\u001B[0m \u001B[38;5;124;03mThis function calculates the probability of seeing token w_n after seeing token w\u001B[39;00m\n\u001B[0;32m     39\u001B[0m \u001B[38;5;124;03m\"\"\"\u001B[39;00m\n\u001B[0;32m     40\u001B[0m bigram: \u001B[38;5;28mtuple\u001B[39m \u001B[38;5;241m=\u001B[39m (w, w_n)\n\u001B[1;32m---> 41\u001B[0m bigram_count \u001B[38;5;241m=\u001B[39m \u001B[38;5;28;43mself\u001B[39;49m\u001B[38;5;241;43m.\u001B[39;49m\u001B[43mbigrams\u001B[49m\u001B[38;5;241;43m.\u001B[39;49m\u001B[43mloc\u001B[49m\u001B[43m[\u001B[49m\u001B[38;5;28;43mself\u001B[39;49m\u001B[38;5;241;43m.\u001B[39;49m\u001B[43mbigrams\u001B[49m\u001B[43m[\u001B[49m\u001B[38;5;124;43m'\u001B[39;49m\u001B[38;5;124;43mbigram\u001B[39;49m\u001B[38;5;124;43m'\u001B[39;49m\u001B[43m]\u001B[49m\u001B[43m \u001B[49m\u001B[38;5;241;43m==\u001B[39;49m\u001B[43m \u001B[49m\u001B[43mbigram\u001B[49m\u001B[43m]\u001B[49m[\u001B[38;5;124m'\u001B[39m\u001B[38;5;124mcount\u001B[39m\u001B[38;5;124m'\u001B[39m]\u001B[38;5;241m.\u001B[39mtolist()\n\u001B[0;32m     42\u001B[0m unigram_count \u001B[38;5;241m=\u001B[39m \u001B[38;5;28mself\u001B[39m\u001B[38;5;241m.\u001B[39munigrams\u001B[38;5;241m.\u001B[39mloc[\u001B[38;5;28mself\u001B[39m\u001B[38;5;241m.\u001B[39munigrams[\u001B[38;5;124m'\u001B[39m\u001B[38;5;124munigram\u001B[39m\u001B[38;5;124m'\u001B[39m] \u001B[38;5;241m==\u001B[39m w_n][\u001B[38;5;124m'\u001B[39m\u001B[38;5;124mcount\u001B[39m\u001B[38;5;124m'\u001B[39m]\u001B[38;5;241m.\u001B[39mtolist()\n\u001B[0;32m     44\u001B[0m \u001B[38;5;28;01mif\u001B[39;00m smoothing_constant \u001B[38;5;241m==\u001B[39m \u001B[38;5;241m0.0\u001B[39m:\n\u001B[0;32m     45\u001B[0m     \u001B[38;5;66;03m# Locate the bigram or unigram we want the probability of\u001B[39;00m\n",
      "File \u001B[1;32mC:\\ProgramData\\anaconda3\\lib\\site-packages\\pandas\\core\\indexing.py:1073\u001B[0m, in \u001B[0;36m_LocationIndexer.__getitem__\u001B[1;34m(self, key)\u001B[0m\n\u001B[0;32m   1070\u001B[0m axis \u001B[38;5;241m=\u001B[39m \u001B[38;5;28mself\u001B[39m\u001B[38;5;241m.\u001B[39maxis \u001B[38;5;129;01mor\u001B[39;00m \u001B[38;5;241m0\u001B[39m\n\u001B[0;32m   1072\u001B[0m maybe_callable \u001B[38;5;241m=\u001B[39m com\u001B[38;5;241m.\u001B[39mapply_if_callable(key, \u001B[38;5;28mself\u001B[39m\u001B[38;5;241m.\u001B[39mobj)\n\u001B[1;32m-> 1073\u001B[0m \u001B[38;5;28;01mreturn\u001B[39;00m \u001B[38;5;28;43mself\u001B[39;49m\u001B[38;5;241;43m.\u001B[39;49m\u001B[43m_getitem_axis\u001B[49m\u001B[43m(\u001B[49m\u001B[43mmaybe_callable\u001B[49m\u001B[43m,\u001B[49m\u001B[43m \u001B[49m\u001B[43maxis\u001B[49m\u001B[38;5;241;43m=\u001B[39;49m\u001B[43maxis\u001B[49m\u001B[43m)\u001B[49m\n",
      "File \u001B[1;32mC:\\ProgramData\\anaconda3\\lib\\site-packages\\pandas\\core\\indexing.py:1292\u001B[0m, in \u001B[0;36m_LocIndexer._getitem_axis\u001B[1;34m(self, key, axis)\u001B[0m\n\u001B[0;32m   1290\u001B[0m     \u001B[38;5;28;01mreturn\u001B[39;00m \u001B[38;5;28mself\u001B[39m\u001B[38;5;241m.\u001B[39m_get_slice_axis(key, axis\u001B[38;5;241m=\u001B[39maxis)\n\u001B[0;32m   1291\u001B[0m \u001B[38;5;28;01melif\u001B[39;00m com\u001B[38;5;241m.\u001B[39mis_bool_indexer(key):\n\u001B[1;32m-> 1292\u001B[0m     \u001B[38;5;28;01mreturn\u001B[39;00m \u001B[38;5;28;43mself\u001B[39;49m\u001B[38;5;241;43m.\u001B[39;49m\u001B[43m_getbool_axis\u001B[49m\u001B[43m(\u001B[49m\u001B[43mkey\u001B[49m\u001B[43m,\u001B[49m\u001B[43m \u001B[49m\u001B[43maxis\u001B[49m\u001B[38;5;241;43m=\u001B[39;49m\u001B[43maxis\u001B[49m\u001B[43m)\u001B[49m\n\u001B[0;32m   1293\u001B[0m \u001B[38;5;28;01melif\u001B[39;00m is_list_like_indexer(key):\n\u001B[0;32m   1294\u001B[0m \n\u001B[0;32m   1295\u001B[0m     \u001B[38;5;66;03m# an iterable multi-selection\u001B[39;00m\n\u001B[0;32m   1296\u001B[0m     \u001B[38;5;28;01mif\u001B[39;00m \u001B[38;5;129;01mnot\u001B[39;00m (\u001B[38;5;28misinstance\u001B[39m(key, \u001B[38;5;28mtuple\u001B[39m) \u001B[38;5;129;01mand\u001B[39;00m \u001B[38;5;28misinstance\u001B[39m(labels, MultiIndex)):\n",
      "File \u001B[1;32mC:\\ProgramData\\anaconda3\\lib\\site-packages\\pandas\\core\\indexing.py:1092\u001B[0m, in \u001B[0;36m_LocationIndexer._getbool_axis\u001B[1;34m(self, key, axis)\u001B[0m\n\u001B[0;32m   1090\u001B[0m labels \u001B[38;5;241m=\u001B[39m \u001B[38;5;28mself\u001B[39m\u001B[38;5;241m.\u001B[39mobj\u001B[38;5;241m.\u001B[39m_get_axis(axis)\n\u001B[0;32m   1091\u001B[0m key \u001B[38;5;241m=\u001B[39m check_bool_indexer(labels, key)\n\u001B[1;32m-> 1092\u001B[0m inds \u001B[38;5;241m=\u001B[39m \u001B[43mkey\u001B[49m\u001B[38;5;241;43m.\u001B[39;49m\u001B[43mnonzero\u001B[49m\u001B[43m(\u001B[49m\u001B[43m)\u001B[49m[\u001B[38;5;241m0\u001B[39m]\n\u001B[0;32m   1093\u001B[0m \u001B[38;5;28;01mreturn\u001B[39;00m \u001B[38;5;28mself\u001B[39m\u001B[38;5;241m.\u001B[39mobj\u001B[38;5;241m.\u001B[39m_take_with_is_copy(inds, axis\u001B[38;5;241m=\u001B[39maxis)\n",
      "\u001B[1;31mKeyboardInterrupt\u001B[0m: "
     ]
    }
   ],
   "source": [
    "from generate import *\n",
    "\n",
    "sent = generate_sentence(model)\n",
    "print(sent)"
   ],
   "metadata": {
    "collapsed": false,
    "ExecuteTime": {
     "end_time": "2023-05-21T20:36:37.979432300Z",
     "start_time": "2023-05-21T20:32:56.552857600Z"
    }
   }
  },
  {
   "cell_type": "code",
   "execution_count": 70,
   "outputs": [
    {
     "name": "stdout",
     "output_type": "stream",
     "text": [
      "3157.713595633685\n"
     ]
    }
   ],
   "source": [
    "import nltk\n",
    "tokens = nltk.word_tokenize(\"Suggestive, Watson, is it not?\")\n",
    "print(model.perplexity(tokens, smoothing_constant=1.0))"
   ],
   "metadata": {
    "collapsed": false,
    "ExecuteTime": {
     "end_time": "2023-05-21T20:16:24.960109800Z",
     "start_time": "2023-05-21T20:16:24.620144Z"
    }
   }
  },
  {
   "cell_type": "code",
   "execution_count": 35,
   "outputs": [
    {
     "data": {
      "text/plain": "32            (it, </s>)\n58           (him, </s>)\n76           (you, </s>)\n132         (them, </s>)\n160           (me, </s>)\n              ...       \n96332    (governs, </s>)\n96339      (cruel, </s>)\n96401      (wheel, </s>)\n96405    (thrones, </s>)\n96429    (accused, </s>)\nName: bigram, Length: 3989, dtype: object"
     },
     "execution_count": 35,
     "metadata": {},
     "output_type": "execute_result"
    }
   ],
   "source": [
    "model.bigrams[model.bigrams['bigram'].apply(lambda x: '</s>' in x[1])]['bigram']"
   ],
   "metadata": {
    "collapsed": false,
    "ExecuteTime": {
     "end_time": "2023-05-18T17:56:39.712462500Z",
     "start_time": "2023-05-18T17:56:39.652532300Z"
    }
   }
  },
  {
   "cell_type": "code",
   "execution_count": 25,
   "outputs": [],
   "source": [
    "def generate_sentence(model: BigramModel, smoothing_constant=0.0):\n",
    "    sent = ['<s>']\n",
    "    while sent[len(sent) - 1] != '</s>':\n",
    "        successor = model.choose_successor(sent[len(sent) - 1], smoothin)\n",
    "        sent.append(successor)\n",
    "    return sent"
   ],
   "metadata": {
    "collapsed": false,
    "ExecuteTime": {
     "end_time": "2023-05-18T16:24:57.193508200Z",
     "start_time": "2023-05-18T16:24:57.172414300Z"
    }
   }
  },
  {
   "cell_type": "code",
   "execution_count": 26,
   "outputs": [
    {
     "name": "stderr",
     "output_type": "stream",
     "text": [
      "Choosing successor for: <s>: 100%|████████████████████████████████| 824/824 [00:19<00:00, 41.54it/s]\n",
      "Choosing successor for: dogma: 100%|██████████████████████████████████| 4/4 [00:00<00:00, 51.06it/s]\n",
      "Choosing successor for: how: 100%|██████████████████████████████████| 66/66 [00:01<00:00, 49.42it/s]\n",
      "Choosing successor for: near: 100%|█████████████████████████████████| 20/20 [00:00<00:00, 49.25it/s]\n",
      "Choosing successor for: snapping: 100%|███████████████████████████████| 3/3 [00:00<00:00, 42.11it/s]\n",
      "Choosing successor for: bracken: 100%|████████████████████████████████| 1/1 [00:00<00:00, 51.73it/s]\n",
      "Choosing successor for: through: 100%|██████████████████████████████| 57/57 [00:01<00:00, 49.25it/s]\n",
      "Choosing successor for: dissipation: 100%|████████████████████████████| 1/1 [00:00<00:00, 54.38it/s]\n",
      "Choosing successor for: rather: 100%|█████████████████████████████| 166/166 [00:03<00:00, 48.72it/s]\n",
      "Choosing successor for: faddy: 100%|██████████████████████████████████| 1/1 [00:00<00:00, 34.83it/s]\n",
      "Choosing successor for: fashionableness: 100%|████████████████████████| 1/1 [00:00<00:00, 42.36it/s]\n",
      "Choosing successor for: at: 100%|█████████████████████████████████| 169/169 [00:03<00:00, 48.02it/s]\n",
      "Choosing successor for: enmity: 100%|█████████████████████████████████| 1/1 [00:00<00:00, 47.55it/s]\n",
      "Choosing successor for: with: 100%|███████████████████████████████| 477/477 [00:10<00:00, 47.56it/s]\n",
      "Choosing successor for: self-accusing: 100%|██████████████████████████| 1/1 [00:00<00:00, 49.96it/s]\n",
      "Choosing successor for: horror: 100%|█████████████████████████████████| 8/8 [00:00<00:00, 52.64it/s]\n",
      "Choosing successor for: oh: 100%|███████████████████████████████████| 39/39 [00:00<00:00, 50.38it/s]\n",
      "Choosing successor for: hitch: 100%|██████████████████████████████████| 1/1 [00:00<00:00, 47.59it/s]\n",
      "Choosing successor for: the: 100%|██████████████████████████████| 3479/3479 [01:14<00:00, 46.50it/s]\n",
      "Choosing successor for: fewest: 100%|█████████████████████████████████| 1/1 [00:00<00:00, 40.33it/s]\n",
      "Choosing successor for: words: 100%|████████████████████████████████| 51/51 [00:01<00:00, 50.31it/s]\n",
      "Choosing successor for: whosoever: 100%|██████████████████████████████| 1/1 [00:00<00:00, 43.22it/s]\n",
      "Choosing successor for: shall: 100%|████████████████████████████████| 56/56 [00:01<00:00, 51.60it/s]\n",
      "Choosing successor for: commit: 100%|█████████████████████████████████| 4/4 [00:00<00:00, 50.04it/s]\n",
      "Choosing successor for: suicide: 100%|████████████████████████████████| 4/4 [00:00<00:00, 54.23it/s]\n",
      "Choosing successor for: sneered: 100%|████████████████████████████████| 2/2 [00:00<00:00, 46.95it/s]\n",
      "Choosing successor for: prevail: 100%|████████████████████████████████| 1/1 [00:00<00:00, 46.45it/s]\n",
      "Choosing successor for: like: 100%|███████████████████████████████| 196/196 [00:03<00:00, 52.88it/s]\n",
      "Choosing successor for: lead: 100%|███████████████████████████████████| 6/6 [00:00<00:00, 52.02it/s]\n",
      "Choosing successor for: showing: 100%|████████████████████████████████| 8/8 [00:00<00:00, 54.82it/s]\n",
      "Choosing successor for: bars: 100%|███████████████████████████████████| 1/1 [00:00<00:00, 61.45it/s]\n",
      "Choosing successor for: of: 100%|███████████████████████████████| 1615/1615 [00:32<00:00, 49.73it/s]\n",
      "Choosing successor for: clerks: 100%|█████████████████████████████████| 3/3 [00:00<00:00, 44.26it/s]\n",
      "Choosing successor for: on: 100%|█████████████████████████████████| 195/195 [00:03<00:00, 49.06it/s]\n",
      "Choosing successor for: top: 100%|██████████████████████████████████| 10/10 [00:00<00:00, 46.65it/s]\n",
      "Choosing successor for: hats: 100%|█████████████████████████████████| 14/14 [00:00<00:00, 44.27it/s]\n",
      "Choosing successor for: coats: 100%|██████████████████████████████████| 3/3 [00:00<00:00, 44.05it/s]\n",
      "Choosing successor for: waistcoats: 100%|█████████████████████████████| 1/1 [00:00<00:00, 50.24it/s]\n",
      "Choosing successor for: and: 100%|██████████████████████████████| 2243/2243 [00:45<00:00, 49.81it/s]\n",
      "Choosing successor for: flourished: 100%|█████████████████████████████| 1/1 [00:00<00:00, 47.47it/s]\n",
      "Choosing successor for: about: 100%|██████████████████████████████| 155/155 [00:03<00:00, 47.68it/s]\n",
      "Choosing successor for: pale-faced: 100%|█████████████████████████████| 1/1 [00:00<00:00, 47.75it/s]\n",
      "Choosing successor for: phantoms: 100%|███████████████████████████████| 1/1 [00:00<00:00, 45.27it/s]\n",
      "Choosing successor for: in: 100%|█████████████████████████████████| 614/614 [00:13<00:00, 45.58it/s]\n",
      "Choosing successor for: convalescence: 100%|██████████████████████████| 1/1 [00:00<00:00, 42.29it/s]\n",
      "Choosing successor for: but: 100%|████████████████████████████████| 353/353 [00:08<00:00, 42.75it/s]\n",
      "Choosing successor for: punctilious: 100%|████████████████████████████| 1/1 [00:00<00:00, 35.93it/s]\n",
      "Choosing successor for: about: 100%|██████████████████████████████| 155/155 [00:03<00:00, 43.81it/s]\n",
      "Choosing successor for: cumnor: 100%|█████████████████████████████████| 1/1 [00:00<00:00, 55.66it/s]\n",
      "Choosing successor for: and: 100%|██████████████████████████████| 2243/2243 [00:53<00:00, 41.74it/s]\n",
      "Choosing successor for: muddle: 100%|█████████████████████████████████| 1/1 [00:00<00:00, 50.05it/s]\n"
     ]
    }
   ],
   "source": [
    "sent = generate_sentence(model, smoothing_constant=1.0)"
   ],
   "metadata": {
    "collapsed": false,
    "ExecuteTime": {
     "end_time": "2023-05-18T16:29:48.502898400Z",
     "start_time": "2023-05-18T16:24:59.304378500Z"
    }
   }
  },
  {
   "cell_type": "code",
   "execution_count": 31,
   "outputs": [
    {
     "name": "stderr",
     "output_type": "stream",
     "text": [
      "Choosing successor for: insincerity: 100%|████████████████████████████| 1/1 [00:00<00:00, 58.42it/s]"
     ]
    },
    {
     "name": "stdout",
     "output_type": "stream",
     "text": [
      "</s>\n"
     ]
    },
    {
     "name": "stderr",
     "output_type": "stream",
     "text": [
      "\n"
     ]
    }
   ],
   "source": [
    "print(model.choose_successor('insincerity', smoothing_constant=5.0))"
   ],
   "metadata": {
    "collapsed": false,
    "ExecuteTime": {
     "end_time": "2023-05-18T16:43:51.737575500Z",
     "start_time": "2023-05-18T16:43:51.646696100Z"
    }
   }
  },
  {
   "cell_type": "code",
   "execution_count": 32,
   "outputs": [],
   "source": [
    "def generate_sentence(model: BigramModel, smoothing_constant=0.0):\n",
    "    sent = ['<s>']\n",
    "    while sent[len(sent) - 1] != '</s>':\n",
    "        successor = model.choose_successor(sent[len(sent) - 1], smoothing_constant=smoothing_constant)\n",
    "        sent.append(successor)\n",
    "    return sent"
   ],
   "metadata": {
    "collapsed": false,
    "ExecuteTime": {
     "end_time": "2023-05-18T17:38:18.628373100Z",
     "start_time": "2023-05-18T17:38:18.612388200Z"
    }
   }
  },
  {
   "cell_type": "code",
   "execution_count": 33,
   "outputs": [
    {
     "name": "stderr",
     "output_type": "stream",
     "text": [
      "Choosing successor for: <s>: 100%|████████████████████████████████| 824/824 [00:13<00:00, 59.92it/s]\n",
      "Choosing successor for: fish-knives: 100%|████████████████████████████| 1/1 [00:00<00:00, 64.39it/s]\n",
      "Choosing successor for: and: 100%|██████████████████████████████| 2243/2243 [00:35<00:00, 63.32it/s]\n",
      "Choosing successor for: water: 100%|████████████████████████████████| 23/23 [00:00<00:00, 63.69it/s]\n",
      "Choosing successor for: washing: 100%|████████████████████████████████| 3/3 [00:00<00:00, 60.63it/s]\n",
      "Choosing successor for: half-way: 100%|███████████████████████████████| 5/5 [00:00<00:00, 62.50it/s]\n",
      "Choosing successor for: towards: 100%|██████████████████████████████| 26/26 [00:00<00:00, 64.83it/s]\n",
      "Choosing successor for: seawood: 100%|████████████████████████████████| 3/3 [00:00<00:00, 63.22it/s]\n",
      "Choosing successor for: littering: 100%|██████████████████████████████| 1/1 [00:00<00:00, 62.89it/s]\n",
      "Choosing successor for: its: 100%|████████████████████████████████| 162/162 [00:02<00:00, 62.93it/s]\n",
      "Choosing successor for: depth: 100%|██████████████████████████████████| 3/3 [00:00<00:00, 62.12it/s]\n",
      "Choosing successor for: practically: 100%|████████████████████████████| 9/9 [00:00<00:00, 59.21it/s]\n",
      "Choosing successor for: thanking: 100%|███████████████████████████████| 2/2 [00:00<00:00, 62.55it/s]\n",
      "Choosing successor for: the: 100%|██████████████████████████████| 3479/3479 [00:56<00:00, 61.61it/s]\n",
      "Choosing successor for: spanish: 100%|████████████████████████████████| 5/5 [00:00<00:00, 60.83it/s]\n",
      "Choosing successor for: wars: 100%|███████████████████████████████████| 2/2 [00:00<00:00, 60.47it/s]\n"
     ]
    }
   ],
   "source": [
    "sent = generate_sentence(model, 1.0)"
   ],
   "metadata": {
    "collapsed": false,
    "ExecuteTime": {
     "end_time": "2023-05-18T17:40:18.650962800Z",
     "start_time": "2023-05-18T17:38:28.534941900Z"
    }
   }
  }
 ],
 "metadata": {
  "kernelspec": {
   "display_name": "Python 3 (ipykernel)",
   "language": "python",
   "name": "python3"
  },
  "language_info": {
   "codemirror_mode": {
    "name": "ipython",
    "version": 3
   },
   "file_extension": ".py",
   "mimetype": "text/x-python",
   "name": "python",
   "nbconvert_exporter": "python",
   "pygments_lexer": "ipython3",
   "version": "3.10.9"
  }
 },
 "nbformat": 4,
 "nbformat_minor": 2
}
