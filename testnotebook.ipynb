{
 "cells": [
  {
   "cell_type": "code",
   "execution_count": 36,
   "metadata": {
    "ExecuteTime": {
     "end_time": "2023-05-18T14:32:50.050131900Z",
     "start_time": "2023-05-18T14:32:50.010176300Z"
    }
   },
   "outputs": [],
   "source": [
    "import math\n",
    "import pickle\n",
    "import re\n",
    "import pandas as pd\n",
    "from collections import Counter\n",
    "from tqdm import tqdm\n",
    "import random\n",
    "\n",
    "\n",
    "class BigramModel:\n",
    "    def __init__(self, tokens: list, bigram_table=None, unigram_table=None, from_json=False):\n",
    "        if (tokens == None):\n",
    "            print(\"Tokens cannot be null!\")\n",
    "        else:\n",
    "            self.tokens: list = BigramModel.add_sentence_boundaries(tokens) if not from_json else tokens\n",
    "            _unigram_counts = BigramModel.make_count_unigrams(self.tokens) if not from_json else None\n",
    "            _unigram_counts_tuples = _unigram_counts.most_common(len(_unigram_counts)) if not from_json else None\n",
    "            self.unigram_frequency_table = pd.DataFrame(_unigram_counts_tuples, columns=['unigram', 'count']) if not from_json else unigram_table\n",
    "            self.unigram_frequency_table.drop(\n",
    "                self.unigram_frequency_table[self.unigram_frequency_table['unigram'] == '</s>'].index, inplace=True) if not from_json else None\n",
    "            _bigram_counts = BigramModel.make_count_bigrams(self.tokens) if not from_json else None\n",
    "            _bigram_count_tuples = _bigram_counts.most_common(len(_bigram_counts)) if not from_json else None\n",
    "            self.bigram_frequency_table = pd.DataFrame(_bigram_count_tuples, columns=['bigram', 'count']) if not from_json else bigram_table\n",
    "    def __setstate__(self, state):\n",
    "        self.unigram_frequency_table = pd.DataFrame.from_dict(state['unigram_pickle'])\n",
    "        self.bigram_frequency_table = pd.DataFrame.from_dict(state['bigram_pickle'])\n",
    "        self.tokens = state['tokens']\n",
    "    def __getstate__(self):\n",
    "        dict = {'bigram_pickle': self.bigram_frequency_table.to_dict(), 'unigram_pickle': self.unigram_frequency_table.to_dict(), 'tokens': self.tokens}\n",
    "        return dict\n",
    "\n",
    "    def probability(self, w: str, w_n: str, smoothing_constant: float = 0.0):\n",
    "        \"\"\"\n",
    "        @param w: The token we have just seen\n",
    "        @param w_n: the probability of seeing token w_n\n",
    "        @param smoothing_constant: the constant with which smoothing is applied\n",
    "        This function calculates the probability of seeing token w_n after seeing token w\n",
    "        \"\"\"\n",
    "        bigram: tuple = (w, w_n)\n",
    "        try:\n",
    "            bigram_count = \\\n",
    "            self.bigram_frequency_table.loc[self.bigram_frequency_table['bigram'] == bigram]['count'].tolist()[0]\n",
    "        except:\n",
    "            return 0.0\n",
    "        try:\n",
    "            unigram_count = \\\n",
    "            self.unigram_frequency_table.loc[self.unigram_frequency_table['unigram'] == w_n]['count'].tolist()[0]\n",
    "        except:\n",
    "            return 0.0\n",
    "        if smoothing_constant == 0.0:\n",
    "            # Locate the bigram or unigram we want the probability of\n",
    "            return bigram_count / unigram_count\n",
    "        else:\n",
    "            total_words = len(self.unigram_frequency_table)\n",
    "            t = bigram_count + smoothing_constant\n",
    "            n = unigram_count + smoothing_constant * total_words\n",
    "            return t / n\n",
    "\n",
    "    def perplexity(self, sent: list, smoothing_constant: float = 1.0) -> float:\n",
    "        sentCopy = sent.copy()\n",
    "        sentCopy.remove('</s>')\n",
    "        n = len(sentCopy)\n",
    "        probs = []\n",
    "        for i in range(n - 1):\n",
    "            probability = self.probability(sentCopy[i], sentCopy[i + 1], smoothing_constant)\n",
    "            q = 1 / probability\n",
    "            probs.append(q)\n",
    "        s = math.prod(probs)\n",
    "        return s ** (1 / n)\n",
    "\n",
    "    def choose_successor(self, word: str, smoothing_constant: float = 0.0) -> str | None:\n",
    "        try:\n",
    "            unigram_count = self.unigram_frequency_table.loc[self.unigram_frequency_table['unigram'] == word]['count'].tolist()[0]\n",
    "        except:\n",
    "            return None\n",
    "\n",
    "        possible_bigrams = self.bigram_frequency_table[self.bigram_frequency_table['bigram'].apply(lambda x: \"the\" in x)]['bigram'].tolist()\n",
    "        prob2 = []\n",
    "        for bigram in tqdm(possible_bigrams, ncols=100, desc=f\"Choosing successor for: {word}\"):\n",
    "            prob2.append(self.probability('the', bigram[1], 0.0))\n",
    "        successor: tuple = random.choices(possible_bigrams, weights=prob2, k=1)\n",
    "        return successor[0][1]\n",
    "\n",
    "    def save_model(self, location: str):\n",
    "        with open(location, 'wb') as f:\n",
    "            pickle.dump(self, f)\n",
    "\n",
    "    @staticmethod\n",
    "    def load_model(location: str):\n",
    "        with open(location, 'rb') as f:\n",
    "            return pickle.load(f)\n",
    "\n",
    "    @staticmethod\n",
    "    def make_count_unigrams(tokens: list) -> Counter:\n",
    "        \"\"\"\n",
    "        @param tokens: list of tokenized sentences\n",
    "        Takes a list of tokenized sentences and generates the appropriate unigrams and counts them\n",
    "        \"\"\"\n",
    "        totWords: list = []\n",
    "        for p, words in enumerate(\n",
    "                tqdm(tokens, ncols=100, desc='Making and counting Unigrams')):  # tqdm prints a progressbar\n",
    "            for word in words:\n",
    "                totWords.append(word)\n",
    "        return Counter(totWords)\n",
    "\n",
    "    @staticmethod\n",
    "    def make_count_bigrams(tokens: list) -> Counter:\n",
    "        \"\"\"\n",
    "        @param tokens: list of tokenized sentences\n",
    "        Takes a list of tokenized sentences and generates the appropriate bigrams and counts them\n",
    "        \"\"\"\n",
    "        #bigram_counts = Counter()\n",
    "        bigrams: list = []\n",
    "        for p, words in enumerate(tqdm(tokens, ncols=100, desc='Making and counting Bigrams')):  # tqdm prints a progressbar\n",
    "            for i in range(len(words) - 1):\n",
    "                bigrams.append((words[i], words[i + 1]))\n",
    "        return Counter(bigrams)\n",
    "\n",
    "    @staticmethod\n",
    "    def add_sentence_boundaries(tokens: list) -> list:\n",
    "        \"\"\"\n",
    "        @param tokens: list of tokenized sentences\n",
    "        Takes a list of tokenized sentences and adds sentence boundaries to all the sentences\n",
    "        \"\"\"\n",
    "        tokens_without_punctuation = BigramModel.remove_punctuation_tokens(tokens)\n",
    "        tokens_with_boundaries: list = []\n",
    "        item: list\n",
    "        for i, item in enumerate(\n",
    "                tqdm(tokens_without_punctuation, ncols=100, desc='Adding boundaries')):  # tqdm prints a progressbar\n",
    "            item.insert(0, \"<s>\")\n",
    "            item.append(\"</s>\")\n",
    "            tokens_with_boundaries.append(item)\n",
    "        return tokens_with_boundaries\n",
    "\n",
    "    @staticmethod\n",
    "    def remove_punctuation_tokens(tokens: list):\n",
    "        \"\"\"\n",
    "        @param tokens: list of tokenized sentences\n",
    "        Takes a list of tokenized sentences and removes the tokens that solemnly consist of punctuation from the list\n",
    "        \"\"\"\n",
    "        to_return: list = []\n",
    "        for sent in tokens:\n",
    "            to_return.append([p.lower() for p in sent if not re.match('\\W', p)])\n",
    "        return to_return\n"
   ]
  },
  {
   "cell_type": "code",
   "execution_count": 37,
   "metadata": {
    "ExecuteTime": {
     "end_time": "2023-05-18T14:32:58.004656100Z",
     "start_time": "2023-05-18T14:32:52.351067800Z"
    }
   },
   "outputs": [
    {
     "name": "stderr",
     "output_type": "stream",
     "text": [
      "Adding boundaries: 100%|█████████████████████████████████| 11909/11909 [00:00<00:00, 1324511.20it/s]\n",
      "Making and counting Unigrams: 100%|███████████████████████| 11909/11909 [00:00<00:00, 476849.32it/s]\n",
      "Making and counting Bigrams: 100%|████████████████████████| 11909/11909 [00:00<00:00, 183414.36it/s]\n"
     ]
    }
   ],
   "source": [
    "#import Model\n",
    "from corpusreader import CorpusReader\n",
    "import pandas as pd\n",
    "\n",
    "reader = CorpusReader(\"./train\")\n",
    "model = BigramModel(reader.sents())"
   ]
  },
  {
   "cell_type": "code",
   "execution_count": 38,
   "outputs": [
    {
     "name": "stderr",
     "output_type": "stream",
     "text": [
      "Choosing successor for: of: 100%|███████████████████████████████| 5012/5012 [01:21<00:00, 61.41it/s]\n"
     ]
    }
   ],
   "source": [
    "successor = model.choose_successor('of')"
   ],
   "metadata": {
    "collapsed": false,
    "ExecuteTime": {
     "end_time": "2023-05-18T14:34:22.766772200Z",
     "start_time": "2023-05-18T14:33:01.112006100Z"
    }
   }
  },
  {
   "cell_type": "code",
   "execution_count": 39,
   "outputs": [
    {
     "name": "stdout",
     "output_type": "stream",
     "text": [
      "mackintosh\n"
     ]
    }
   ],
   "source": [
    "print(successor)"
   ],
   "metadata": {
    "collapsed": false,
    "ExecuteTime": {
     "end_time": "2023-05-18T14:34:28.643408500Z",
     "start_time": "2023-05-18T14:34:28.633888600Z"
    }
   }
  }
 ],
 "metadata": {
  "kernelspec": {
   "display_name": "Python 3 (ipykernel)",
   "language": "python",
   "name": "python3"
  },
  "language_info": {
   "codemirror_mode": {
    "name": "ipython",
    "version": 3
   },
   "file_extension": ".py",
   "mimetype": "text/x-python",
   "name": "python",
   "nbconvert_exporter": "python",
   "pygments_lexer": "ipython3",
   "version": "3.10.9"
  }
 },
 "nbformat": 4,
 "nbformat_minor": 2
}
