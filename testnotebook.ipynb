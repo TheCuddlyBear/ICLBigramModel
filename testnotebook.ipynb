{
 "cells": [
  {
   "cell_type": "code",
   "execution_count": 23,
   "metadata": {
    "ExecuteTime": {
     "end_time": "2023-05-18T16:24:40.435416400Z",
     "start_time": "2023-05-18T16:24:40.379257100Z"
    }
   },
   "outputs": [],
   "source": [
    "import math\n",
    "import pickle\n",
    "import re\n",
    "import pandas as pd\n",
    "from collections import Counter\n",
    "from tqdm import tqdm\n",
    "import random\n",
    "\n",
    "\n",
    "class BigramModel:\n",
    "    def __init__(self, tokens: list):\n",
    "        if tokens is None:\n",
    "            print(\"Tokens cannot be null!\")\n",
    "        else:\n",
    "            self.tokens: list = BigramModel.add_sentence_boundaries(tokens)\n",
    "            _unigram_counts = BigramModel.count_unigrams(self.tokens)\n",
    "            _unigram_counts_tuples = _unigram_counts.most_common(len(_unigram_counts))\n",
    "            self.unigrams = pd.DataFrame(_unigram_counts_tuples, columns=['unigram', 'count'])\n",
    "            #self.unigrams.drop(self.unigrams.loc[self.unigrams['unigram'] == '</s>'].index, inplace=True)\n",
    "            _bigram_counts = BigramModel.make_count_bigrams(self.tokens)\n",
    "            _bigram_count_tuples = _bigram_counts.most_common(len(_bigram_counts))\n",
    "            self.bigrams = pd.DataFrame(_bigram_count_tuples, columns=['bigram', 'count'])\n",
    "\n",
    "    def __setstate__(self, state):\n",
    "        self.unigrams = pd.DataFrame.from_dict(state['unigram_pickle'])\n",
    "        self.bigrams = pd.DataFrame.from_dict(state['bigram_pickle'])\n",
    "        self.tokens = state['tokens']\n",
    "\n",
    "    def __getstate__(self):\n",
    "        dict = {'bigram_pickle': self.bigrams.to_dict(),\n",
    "                'unigram_pickle': self.unigrams.to_dict(), 'tokens': self.tokens}\n",
    "        return dict\n",
    "\n",
    "    def probability(self, w: str, w_n: str, smoothing_constant: float = 0.0):\n",
    "        \"\"\"\n",
    "        @param w: The token we have just seen\n",
    "        @param w_n: the probability of seeing token w_n\n",
    "        @param smoothing_constant: the constant with which smoothing is applied\n",
    "        This function calculates the probability of seeing token w_n after seeing token w\n",
    "        \"\"\"\n",
    "        bigram: tuple = (w, w_n)\n",
    "        try:\n",
    "            bigram_count = \\\n",
    "                self.bigrams.loc[self.bigrams['bigram'] == bigram]['count'].tolist()[0]\n",
    "        except:\n",
    "            return 0.0\n",
    "        try:\n",
    "            unigram_count = \\\n",
    "                self.unigrams.loc[self.unigrams['unigram'] == w_n]['count'].tolist()[0]\n",
    "        except:\n",
    "            return 0.0\n",
    "        if smoothing_constant == 0.0:\n",
    "            # Locate the bigram or unigram we want the probability of\n",
    "            return bigram_count / unigram_count\n",
    "        else:\n",
    "            total_words = len(self.unigrams)\n",
    "            t = bigram_count + smoothing_constant\n",
    "            n = unigram_count + smoothing_constant * total_words\n",
    "            return t / n\n",
    "\n",
    "    def perplexity(self, sent: list, smoothing_constant: float = 1.0) -> float:\n",
    "        \"\"\"\n",
    "        @param sent: Sentence in the form of a list of tokens\n",
    "        @param smoothing_constant: The constant used to apply smoothing\n",
    "        This calculates the perplexity of the given sentence.\n",
    "        \"\"\"\n",
    "        sent_copy = sent.copy()\n",
    "        sent.insert(0, '<s>')\n",
    "        sent.append('</s>')\n",
    "        #sent_copy.remove('</s>')\n",
    "        n = len(sent_copy)\n",
    "        probs = []\n",
    "        for i in range(n - 1):\n",
    "            probability = self.probability(sent_copy[i], sent_copy[i + 1], smoothing_constant)\n",
    "            q = 1 / probability\n",
    "            probs.append(q)\n",
    "        s = math.prod(probs)\n",
    "        return s ** (1 / n)\n",
    "\n",
    "    def choose_successor(self, word: str, smoothing_constant: float = 0.0) -> str | None:\n",
    "        \"\"\"\n",
    "        @param word: The word/token for which to generate the successor\n",
    "        @param smoothing_constant: The constant used to apply smoothing\n",
    "        This function uses the probability function to randomly but based on probabilities\n",
    "        choose a successor to the token given.\n",
    "        \"\"\"\n",
    "        try:\n",
    "            unigram_count = \\\n",
    "                self.unigrams.loc[self.unigrams['unigram'] == word]['count'].tolist()[0]\n",
    "        except:\n",
    "            return None\n",
    "\n",
    "        possible_bigrams = \\\n",
    "            self.bigrams[self.bigrams['bigram'].apply(lambda x: x[0] == word)][\n",
    "                'bigram'].tolist()\n",
    "        prob2 = []\n",
    "        for bigram in tqdm(possible_bigrams, ncols=100, desc=f\"Choosing successor for: {word}\"):\n",
    "            prob2.append(self.probability(word, bigram[1], 0.0))\n",
    "        successor: tuple = random.choices(possible_bigrams, weights=prob2, k=1)\n",
    "        return successor[0][1]\n",
    "\n",
    "    def save_model(self, location: str):\n",
    "        \"\"\"\n",
    "        @param location: Path to where the model should be stored\n",
    "        Uses pickle to store the model into a file to be loaded back in later\n",
    "        \"\"\"\n",
    "        with open(location, 'wb') as f:\n",
    "            pickle.dump(self, f)\n",
    "\n",
    "    @staticmethod\n",
    "    def load_model(location: str):\n",
    "        \"\"\"\n",
    "        @param location: Path to where the model is stored\n",
    "        Uses to pickle to load a store model back in to e.g. a variable.\n",
    "        \"\"\"\n",
    "        with open(location, 'rb') as f:\n",
    "            return pickle.load(f)\n",
    "\n",
    "    @staticmethod\n",
    "    def count_unigrams(tokens: list) -> Counter:\n",
    "        \"\"\"\n",
    "        @param tokens: list of tokenized sentences\n",
    "        Takes a list of tokenized sentences and generates the appropriate unigrams and counts them\n",
    "        \"\"\"\n",
    "        totWords: list = []\n",
    "        for p, words in enumerate(\n",
    "                tqdm(tokens, ncols=100, desc='Making and counting Unigrams')):  # tqdm prints a progressbar\n",
    "            for word in words:\n",
    "                totWords.append(word)\n",
    "        return Counter(totWords)\n",
    "\n",
    "    @staticmethod\n",
    "    def make_count_bigrams(tokens: list) -> Counter:\n",
    "        \"\"\"\n",
    "        @param tokens: list of tokenized sentences\n",
    "        Takes a list of tokenized sentences and generates the appropriate bigrams and counts them\n",
    "        \"\"\"\n",
    "        # bigram_counts = Counter()\n",
    "        bigrams: list = []\n",
    "        for p, words in enumerate(tqdm(tokens, ncols=100, desc='Making and counting Bigrams')):  # tqdm prints a progressbar\n",
    "            #words.remove(\"</s>\")\n",
    "            for i in range(len(words) - 1):\n",
    "                bigrams.append((words[i], words[i + 1]))\n",
    "        return Counter(bigrams)\n",
    "\n",
    "    @staticmethod\n",
    "    def add_sentence_boundaries(tokens: list) -> list:\n",
    "        \"\"\"\n",
    "        @param tokens: list of tokenized sentences\n",
    "        Takes a list of tokenized sentences and adds sentence boundaries to all the sentences\n",
    "        \"\"\"\n",
    "        tokens_without_punctuation = BigramModel.remove_punctuation_tokens(tokens)\n",
    "        tokens_with_boundaries: list = []\n",
    "        item: list\n",
    "        for i, item in enumerate(\n",
    "                tqdm(tokens_without_punctuation, ncols=100, desc='Adding boundaries')):  # tqdm prints a progressbar\n",
    "            item.insert(0, \"<s>\")\n",
    "            item.append(\"</s>\")\n",
    "            tokens_with_boundaries.append(item)\n",
    "        return tokens_with_boundaries\n",
    "\n",
    "    @staticmethod\n",
    "    def remove_punctuation_tokens(tokens: list):\n",
    "        \"\"\"\n",
    "        @param tokens: list of tokenized sentences\n",
    "        Takes a list of tokenized sentences and removes the tokens that solemnly consist of punctuation from the list\n",
    "        \"\"\"\n",
    "        to_return: list = []\n",
    "        for sent in tokens:\n",
    "            to_return.append([p.lower() for p in sent if not re.match('\\W', p)])\n",
    "        return to_return\n"
   ]
  },
  {
   "cell_type": "code",
   "execution_count": 24,
   "metadata": {
    "ExecuteTime": {
     "end_time": "2023-05-18T16:24:52.960680200Z",
     "start_time": "2023-05-18T16:24:41.704451200Z"
    }
   },
   "outputs": [
    {
     "name": "stderr",
     "output_type": "stream",
     "text": [
      "Adding boundaries: 100%|█████████████████████████████████| 11909/11909 [00:00<00:00, 1016958.82it/s]\n",
      "Making and counting Unigrams: 100%|███████████████████████| 11909/11909 [00:00<00:00, 273001.36it/s]\n",
      "Making and counting Bigrams: 100%|████████████████████████| 11909/11909 [00:00<00:00, 134705.74it/s]\n"
     ]
    }
   ],
   "source": [
    "#import Model\n",
    "from corpusreader import CorpusReader\n",
    "import pandas as pd\n",
    "\n",
    "reader = CorpusReader(\"./train\")\n",
    "model = BigramModel(reader.sents())"
   ]
  },
  {
   "cell_type": "code",
   "execution_count": 6,
   "outputs": [
    {
     "name": "stderr",
     "output_type": "stream",
     "text": [
      "Choosing successor for: <s>: 100%|████████████████████████████████| 824/824 [00:14<00:00, 58.77it/s]\n"
     ]
    }
   ],
   "source": [
    "successor = model.choose_successor('<s>')"
   ],
   "metadata": {
    "collapsed": false,
    "ExecuteTime": {
     "end_time": "2023-05-18T16:03:36.554849Z",
     "start_time": "2023-05-18T16:03:22.427031Z"
    }
   }
  },
  {
   "cell_type": "code",
   "execution_count": 7,
   "outputs": [
    {
     "name": "stdout",
     "output_type": "stream",
     "text": [
      "consequently\n"
     ]
    }
   ],
   "source": [
    "print(successor)"
   ],
   "metadata": {
    "collapsed": false,
    "ExecuteTime": {
     "end_time": "2023-05-18T16:03:59.885383700Z",
     "start_time": "2023-05-18T16:03:59.860165800Z"
    }
   }
  },
  {
   "cell_type": "code",
   "execution_count": 35,
   "outputs": [
    {
     "data": {
      "text/plain": "32            (it, </s>)\n58           (him, </s>)\n76           (you, </s>)\n132         (them, </s>)\n160           (me, </s>)\n              ...       \n96332    (governs, </s>)\n96339      (cruel, </s>)\n96401      (wheel, </s>)\n96405    (thrones, </s>)\n96429    (accused, </s>)\nName: bigram, Length: 3989, dtype: object"
     },
     "execution_count": 35,
     "metadata": {},
     "output_type": "execute_result"
    }
   ],
   "source": [
    "model.bigrams[model.bigrams['bigram'].apply(lambda x: '</s>' in x[1])]['bigram']"
   ],
   "metadata": {
    "collapsed": false,
    "ExecuteTime": {
     "end_time": "2023-05-18T17:56:39.712462500Z",
     "start_time": "2023-05-18T17:56:39.652532300Z"
    }
   }
  },
  {
   "cell_type": "code",
   "execution_count": 25,
   "outputs": [],
   "source": [
    "def generate_sentence(model: BigramModel, smoothing_constant=0.0):\n",
    "    sent = ['<s>']\n",
    "    while sent[len(sent) - 1] != '</s>':\n",
    "        successor = model.choose_successor(sent[len(sent) - 1], smoothin)\n",
    "        sent.append(successor)\n",
    "    return sent"
   ],
   "metadata": {
    "collapsed": false,
    "ExecuteTime": {
     "end_time": "2023-05-18T16:24:57.193508200Z",
     "start_time": "2023-05-18T16:24:57.172414300Z"
    }
   }
  },
  {
   "cell_type": "code",
   "execution_count": 26,
   "outputs": [
    {
     "name": "stderr",
     "output_type": "stream",
     "text": [
      "Choosing successor for: <s>: 100%|████████████████████████████████| 824/824 [00:19<00:00, 41.54it/s]\n",
      "Choosing successor for: dogma: 100%|██████████████████████████████████| 4/4 [00:00<00:00, 51.06it/s]\n",
      "Choosing successor for: how: 100%|██████████████████████████████████| 66/66 [00:01<00:00, 49.42it/s]\n",
      "Choosing successor for: near: 100%|█████████████████████████████████| 20/20 [00:00<00:00, 49.25it/s]\n",
      "Choosing successor for: snapping: 100%|███████████████████████████████| 3/3 [00:00<00:00, 42.11it/s]\n",
      "Choosing successor for: bracken: 100%|████████████████████████████████| 1/1 [00:00<00:00, 51.73it/s]\n",
      "Choosing successor for: through: 100%|██████████████████████████████| 57/57 [00:01<00:00, 49.25it/s]\n",
      "Choosing successor for: dissipation: 100%|████████████████████████████| 1/1 [00:00<00:00, 54.38it/s]\n",
      "Choosing successor for: rather: 100%|█████████████████████████████| 166/166 [00:03<00:00, 48.72it/s]\n",
      "Choosing successor for: faddy: 100%|██████████████████████████████████| 1/1 [00:00<00:00, 34.83it/s]\n",
      "Choosing successor for: fashionableness: 100%|████████████████████████| 1/1 [00:00<00:00, 42.36it/s]\n",
      "Choosing successor for: at: 100%|█████████████████████████████████| 169/169 [00:03<00:00, 48.02it/s]\n",
      "Choosing successor for: enmity: 100%|█████████████████████████████████| 1/1 [00:00<00:00, 47.55it/s]\n",
      "Choosing successor for: with: 100%|███████████████████████████████| 477/477 [00:10<00:00, 47.56it/s]\n",
      "Choosing successor for: self-accusing: 100%|██████████████████████████| 1/1 [00:00<00:00, 49.96it/s]\n",
      "Choosing successor for: horror: 100%|█████████████████████████████████| 8/8 [00:00<00:00, 52.64it/s]\n",
      "Choosing successor for: oh: 100%|███████████████████████████████████| 39/39 [00:00<00:00, 50.38it/s]\n",
      "Choosing successor for: hitch: 100%|██████████████████████████████████| 1/1 [00:00<00:00, 47.59it/s]\n",
      "Choosing successor for: the: 100%|██████████████████████████████| 3479/3479 [01:14<00:00, 46.50it/s]\n",
      "Choosing successor for: fewest: 100%|█████████████████████████████████| 1/1 [00:00<00:00, 40.33it/s]\n",
      "Choosing successor for: words: 100%|████████████████████████████████| 51/51 [00:01<00:00, 50.31it/s]\n",
      "Choosing successor for: whosoever: 100%|██████████████████████████████| 1/1 [00:00<00:00, 43.22it/s]\n",
      "Choosing successor for: shall: 100%|████████████████████████████████| 56/56 [00:01<00:00, 51.60it/s]\n",
      "Choosing successor for: commit: 100%|█████████████████████████████████| 4/4 [00:00<00:00, 50.04it/s]\n",
      "Choosing successor for: suicide: 100%|████████████████████████████████| 4/4 [00:00<00:00, 54.23it/s]\n",
      "Choosing successor for: sneered: 100%|████████████████████████████████| 2/2 [00:00<00:00, 46.95it/s]\n",
      "Choosing successor for: prevail: 100%|████████████████████████████████| 1/1 [00:00<00:00, 46.45it/s]\n",
      "Choosing successor for: like: 100%|███████████████████████████████| 196/196 [00:03<00:00, 52.88it/s]\n",
      "Choosing successor for: lead: 100%|███████████████████████████████████| 6/6 [00:00<00:00, 52.02it/s]\n",
      "Choosing successor for: showing: 100%|████████████████████████████████| 8/8 [00:00<00:00, 54.82it/s]\n",
      "Choosing successor for: bars: 100%|███████████████████████████████████| 1/1 [00:00<00:00, 61.45it/s]\n",
      "Choosing successor for: of: 100%|███████████████████████████████| 1615/1615 [00:32<00:00, 49.73it/s]\n",
      "Choosing successor for: clerks: 100%|█████████████████████████████████| 3/3 [00:00<00:00, 44.26it/s]\n",
      "Choosing successor for: on: 100%|█████████████████████████████████| 195/195 [00:03<00:00, 49.06it/s]\n",
      "Choosing successor for: top: 100%|██████████████████████████████████| 10/10 [00:00<00:00, 46.65it/s]\n",
      "Choosing successor for: hats: 100%|█████████████████████████████████| 14/14 [00:00<00:00, 44.27it/s]\n",
      "Choosing successor for: coats: 100%|██████████████████████████████████| 3/3 [00:00<00:00, 44.05it/s]\n",
      "Choosing successor for: waistcoats: 100%|█████████████████████████████| 1/1 [00:00<00:00, 50.24it/s]\n",
      "Choosing successor for: and: 100%|██████████████████████████████| 2243/2243 [00:45<00:00, 49.81it/s]\n",
      "Choosing successor for: flourished: 100%|█████████████████████████████| 1/1 [00:00<00:00, 47.47it/s]\n",
      "Choosing successor for: about: 100%|██████████████████████████████| 155/155 [00:03<00:00, 47.68it/s]\n",
      "Choosing successor for: pale-faced: 100%|█████████████████████████████| 1/1 [00:00<00:00, 47.75it/s]\n",
      "Choosing successor for: phantoms: 100%|███████████████████████████████| 1/1 [00:00<00:00, 45.27it/s]\n",
      "Choosing successor for: in: 100%|█████████████████████████████████| 614/614 [00:13<00:00, 45.58it/s]\n",
      "Choosing successor for: convalescence: 100%|██████████████████████████| 1/1 [00:00<00:00, 42.29it/s]\n",
      "Choosing successor for: but: 100%|████████████████████████████████| 353/353 [00:08<00:00, 42.75it/s]\n",
      "Choosing successor for: punctilious: 100%|████████████████████████████| 1/1 [00:00<00:00, 35.93it/s]\n",
      "Choosing successor for: about: 100%|██████████████████████████████| 155/155 [00:03<00:00, 43.81it/s]\n",
      "Choosing successor for: cumnor: 100%|█████████████████████████████████| 1/1 [00:00<00:00, 55.66it/s]\n",
      "Choosing successor for: and: 100%|██████████████████████████████| 2243/2243 [00:53<00:00, 41.74it/s]\n",
      "Choosing successor for: muddle: 100%|█████████████████████████████████| 1/1 [00:00<00:00, 50.05it/s]\n"
     ]
    }
   ],
   "source": [
    "sent = generate_sentence(model, smoothing_constant=1.0)"
   ],
   "metadata": {
    "collapsed": false,
    "ExecuteTime": {
     "end_time": "2023-05-18T16:29:48.502898400Z",
     "start_time": "2023-05-18T16:24:59.304378500Z"
    }
   }
  },
  {
   "cell_type": "code",
   "execution_count": 31,
   "outputs": [
    {
     "name": "stderr",
     "output_type": "stream",
     "text": [
      "Choosing successor for: insincerity: 100%|████████████████████████████| 1/1 [00:00<00:00, 58.42it/s]"
     ]
    },
    {
     "name": "stdout",
     "output_type": "stream",
     "text": [
      "</s>\n"
     ]
    },
    {
     "name": "stderr",
     "output_type": "stream",
     "text": [
      "\n"
     ]
    }
   ],
   "source": [
    "print(model.choose_successor('insincerity', smoothing_constant=5.0))"
   ],
   "metadata": {
    "collapsed": false,
    "ExecuteTime": {
     "end_time": "2023-05-18T16:43:51.737575500Z",
     "start_time": "2023-05-18T16:43:51.646696100Z"
    }
   }
  },
  {
   "cell_type": "code",
   "execution_count": 32,
   "outputs": [],
   "source": [
    "def generate_sentence(model: BigramModel, smoothing_constant=0.0):\n",
    "    sent = ['<s>']\n",
    "    while sent[len(sent) - 1] != '</s>':\n",
    "        successor = model.choose_successor(sent[len(sent) - 1], smoothing_constant=smoothing_constant)\n",
    "        sent.append(successor)\n",
    "    return sent"
   ],
   "metadata": {
    "collapsed": false,
    "ExecuteTime": {
     "end_time": "2023-05-18T17:38:18.628373100Z",
     "start_time": "2023-05-18T17:38:18.612388200Z"
    }
   }
  },
  {
   "cell_type": "code",
   "execution_count": 33,
   "outputs": [
    {
     "name": "stderr",
     "output_type": "stream",
     "text": [
      "Choosing successor for: <s>: 100%|████████████████████████████████| 824/824 [00:13<00:00, 59.92it/s]\n",
      "Choosing successor for: fish-knives: 100%|████████████████████████████| 1/1 [00:00<00:00, 64.39it/s]\n",
      "Choosing successor for: and: 100%|██████████████████████████████| 2243/2243 [00:35<00:00, 63.32it/s]\n",
      "Choosing successor for: water: 100%|████████████████████████████████| 23/23 [00:00<00:00, 63.69it/s]\n",
      "Choosing successor for: washing: 100%|████████████████████████████████| 3/3 [00:00<00:00, 60.63it/s]\n",
      "Choosing successor for: half-way: 100%|███████████████████████████████| 5/5 [00:00<00:00, 62.50it/s]\n",
      "Choosing successor for: towards: 100%|██████████████████████████████| 26/26 [00:00<00:00, 64.83it/s]\n",
      "Choosing successor for: seawood: 100%|████████████████████████████████| 3/3 [00:00<00:00, 63.22it/s]\n",
      "Choosing successor for: littering: 100%|██████████████████████████████| 1/1 [00:00<00:00, 62.89it/s]\n",
      "Choosing successor for: its: 100%|████████████████████████████████| 162/162 [00:02<00:00, 62.93it/s]\n",
      "Choosing successor for: depth: 100%|██████████████████████████████████| 3/3 [00:00<00:00, 62.12it/s]\n",
      "Choosing successor for: practically: 100%|████████████████████████████| 9/9 [00:00<00:00, 59.21it/s]\n",
      "Choosing successor for: thanking: 100%|███████████████████████████████| 2/2 [00:00<00:00, 62.55it/s]\n",
      "Choosing successor for: the: 100%|██████████████████████████████| 3479/3479 [00:56<00:00, 61.61it/s]\n",
      "Choosing successor for: spanish: 100%|████████████████████████████████| 5/5 [00:00<00:00, 60.83it/s]\n",
      "Choosing successor for: wars: 100%|███████████████████████████████████| 2/2 [00:00<00:00, 60.47it/s]\n"
     ]
    }
   ],
   "source": [
    "sent = generate_sentence(model, 1.0)"
   ],
   "metadata": {
    "collapsed": false,
    "ExecuteTime": {
     "end_time": "2023-05-18T17:40:18.650962800Z",
     "start_time": "2023-05-18T17:38:28.534941900Z"
    }
   }
  }
 ],
 "metadata": {
  "kernelspec": {
   "display_name": "Python 3 (ipykernel)",
   "language": "python",
   "name": "python3"
  },
  "language_info": {
   "codemirror_mode": {
    "name": "ipython",
    "version": 3
   },
   "file_extension": ".py",
   "mimetype": "text/x-python",
   "name": "python",
   "nbconvert_exporter": "python",
   "pygments_lexer": "ipython3",
   "version": "3.10.9"
  }
 },
 "nbformat": 4,
 "nbformat_minor": 2
}
