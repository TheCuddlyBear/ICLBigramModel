{
 "cells": [
  {
   "cell_type": "code",
   "execution_count": 87,
   "metadata": {
    "ExecuteTime": {
     "end_time": "2023-05-16T19:47:28.890724700Z",
     "start_time": "2023-05-16T19:47:28.843857200Z"
    }
   },
   "outputs": [],
   "source": [
    "import math\n",
    "import re\n",
    "import pandas as pd\n",
    "from collections import Counter\n",
    "from tqdm import tqdm\n",
    "\n",
    "\n",
    "class BigramModel:\n",
    "    def __init__(self, tokens: list):\n",
    "        if (tokens == None):\n",
    "            print(\"Tokens cannot be null!\")\n",
    "        else:\n",
    "            self.tokens: list = BigramModel.add_sentence_boundaries(tokens)\n",
    "            _unigram_counts = BigramModel.make_count_unigrams(self.tokens)\n",
    "            _unigram_counts_tuples = _unigram_counts.most_common(len(_unigram_counts))\n",
    "            self.unigram_frequency_table = pd.DataFrame(_unigram_counts_tuples, columns=['unigram', 'count'])\n",
    "            self.unigram_frequency_table.drop(\n",
    "                self.unigram_frequency_table[self.unigram_frequency_table['unigram'] == '</s>'].index, inplace=True)\n",
    "            _bigram_counts = BigramModel.make_count_bigrams(self.tokens)\n",
    "            _bigram_count_tuples = _bigram_counts.most_common(len(_bigram_counts))\n",
    "            self.bigram_frequency_table = pd.DataFrame(_bigram_count_tuples, columns=['bigram', 'count'])\n",
    "\n",
    "    def probability(self, w: str, w_n: str, smoothing_constant: float = 0.0):\n",
    "        \"\"\"\n",
    "        @param w: The token we have just seen\n",
    "        @param w_n: the probability of seeing token w_n\n",
    "        @param smoothing_constant: the constant with which smoothing is applied\n",
    "        This function calculates the probability of seeing token w_n after seeing token w\n",
    "        \"\"\"\n",
    "        bigram: tuple = (w, w_n)\n",
    "        try:\n",
    "            bigram_count = \\\n",
    "            self.bigram_frequency_table.loc[self.bigram_frequency_table['bigram'] == bigram]['count'].tolist()[0]\n",
    "        except:\n",
    "            return 0.0\n",
    "        try:\n",
    "            unigram_count = \\\n",
    "            self.unigram_frequency_table.loc[self.unigram_frequency_table['unigram'] == w_n]['count'].tolist()[0]\n",
    "        except:\n",
    "            return 0.0\n",
    "        if smoothing_constant == 0.0:\n",
    "            # Locate the bigram or unigram we want the probability of\n",
    "            return bigram_count / unigram_count\n",
    "        else:\n",
    "            total_words = len(self.unigram_frequency_table)\n",
    "            t = bigram_count + smoothing_constant\n",
    "            n = unigram_count + smoothing_constant * total_words\n",
    "            return t / n\n",
    "\n",
    "    def perplexity(self, sent: list, smoothing_constant: float = 1.0) -> float:\n",
    "        sentCopy = sent.copy()\n",
    "        sentCopy.remove('</s>')\n",
    "        n = len(sentCopy)\n",
    "        probs = []\n",
    "        for i in range(n - 1):\n",
    "            probability = self.probability(sentCopy[i], sentCopy[i + 1], smoothing_constant)\n",
    "            q = 1 / probability\n",
    "            probs.append(q)\n",
    "        s = math.prod(probs)\n",
    "        return s ** (1 / n)\n",
    "\n",
    "    def choose_successor(self, word: str, smoothing_constant: float = 0.0) -> str | None:\n",
    "        pass\n",
    "\n",
    "    @staticmethod\n",
    "    def make_count_unigrams(tokens: list) -> Counter:\n",
    "        \"\"\"\n",
    "        @param tokens: list of tokenized sentences\n",
    "        Takes a list of tokenized sentences and generates the appropriate unigrams and counts them\n",
    "        \"\"\"\n",
    "        unigram_counts = Counter()\n",
    "        for p, words in enumerate(\n",
    "                tqdm(tokens, ncols=100, desc='Making and counting Unigrams')):  # tqdm prints a progressbar\n",
    "            unigram_counts += Counter(words)\n",
    "        return unigram_counts\n",
    "\n",
    "    @staticmethod\n",
    "    def make_count_bigrams(tokens: list) -> Counter:\n",
    "        \"\"\"\n",
    "        @param tokens: list of tokenized sentences\n",
    "        Takes a list of tokenized sentences and generates the appropriate bigrams and counts them\n",
    "        \"\"\"\n",
    "        bigram_counts = Counter()\n",
    "        for p, words in enumerate(\n",
    "                tqdm(tokens, ncols=100, desc='Making and counting Bigrams')):  # tqdm prints a progressbar\n",
    "            bigrams: list = []\n",
    "            for i in range(len(words) - 1):\n",
    "                bigrams.append((words[i], words[i + 1]))\n",
    "            bigram_counts += Counter(bigrams)\n",
    "        return bigram_counts\n",
    "\n",
    "    @staticmethod\n",
    "    def add_sentence_boundaries(tokens: list) -> list:\n",
    "        \"\"\"\n",
    "        @param tokens: list of tokenized sentences\n",
    "        Takes a list of tokenized sentences and adds sentence boundaries to all the sentences\n",
    "        \"\"\"\n",
    "        tokens_without_punctuation = BigramModel.remove_punctuation_tokens(tokens)\n",
    "        tokens_with_boundaries: list = []\n",
    "        item: list\n",
    "        for i, item in enumerate(\n",
    "                tqdm(tokens_without_punctuation, ncols=100, desc='Adding boundaries')):  # tqdm prints a progressbar\n",
    "            item.insert(0, \"<s>\")\n",
    "            item.append(\"</s>\")\n",
    "            tokens_with_boundaries.append(item)\n",
    "        return tokens_with_boundaries\n",
    "\n",
    "    @staticmethod\n",
    "    def remove_punctuation_tokens(tokens: list):\n",
    "        \"\"\"\n",
    "        @param tokens: list of tokenized sentences\n",
    "        Takes a list of tokenized sentences and removes the tokens that solemnly consist of punctuation from the list\n",
    "        \"\"\"\n",
    "        to_return: list = []\n",
    "        for sent in tokens:\n",
    "            to_return.append([p.lower() for p in sent if not re.match('\\W', p)])\n",
    "        return to_return\n"
   ]
  },
  {
   "cell_type": "code",
   "execution_count": 88,
   "metadata": {
    "ExecuteTime": {
     "end_time": "2023-05-16T19:47:30.866514600Z",
     "start_time": "2023-05-16T19:47:30.483944400Z"
    }
   },
   "outputs": [
    {
     "name": "stderr",
     "output_type": "stream",
     "text": [
      "Adding boundaries: 100%|██████████████████████████████████████| 325/325 [00:00<00:00, 310795.44it/s]\n",
      "Making and counting Unigrams: 100%|█████████████████████████████| 325/325 [00:00<00:00, 8318.78it/s]\n",
      "Making and counting Bigrams: 100%|██████████████████████████████| 325/325 [00:00<00:00, 2205.58it/s]\n"
     ]
    }
   ],
   "source": [
    "#import Model\n",
    "from corpusreader import CorpusReader\n",
    "import pandas as pd\n",
    "\n",
    "reader = CorpusReader(\"./small-corpus\")\n",
    "model = BigramModel(reader.sents())"
   ]
  },
  {
   "cell_type": "code",
   "execution_count": 85,
   "outputs": [
    {
     "data": {
      "text/plain": "                   bigram  count\n0               (of, the)     28\n1               (in, the)     20\n2              (<s>, the)     18\n3               (of, his)     17\n4              (she, had)     14\n...                   ...    ...\n5057  (norweyan, banners)      1\n5058     (banners, flowt)      1\n5059         (flowt, the)      1\n5060          (the, skie)      1\n5061         (skie, </s>)      1\n\n[5062 rows x 2 columns]",
      "text/html": "<div>\n<style scoped>\n    .dataframe tbody tr th:only-of-type {\n        vertical-align: middle;\n    }\n\n    .dataframe tbody tr th {\n        vertical-align: top;\n    }\n\n    .dataframe thead th {\n        text-align: right;\n    }\n</style>\n<table border=\"1\" class=\"dataframe\">\n  <thead>\n    <tr style=\"text-align: right;\">\n      <th></th>\n      <th>bigram</th>\n      <th>count</th>\n    </tr>\n  </thead>\n  <tbody>\n    <tr>\n      <th>0</th>\n      <td>(of, the)</td>\n      <td>28</td>\n    </tr>\n    <tr>\n      <th>1</th>\n      <td>(in, the)</td>\n      <td>20</td>\n    </tr>\n    <tr>\n      <th>2</th>\n      <td>(&lt;s&gt;, the)</td>\n      <td>18</td>\n    </tr>\n    <tr>\n      <th>3</th>\n      <td>(of, his)</td>\n      <td>17</td>\n    </tr>\n    <tr>\n      <th>4</th>\n      <td>(she, had)</td>\n      <td>14</td>\n    </tr>\n    <tr>\n      <th>...</th>\n      <td>...</td>\n      <td>...</td>\n    </tr>\n    <tr>\n      <th>5057</th>\n      <td>(norweyan, banners)</td>\n      <td>1</td>\n    </tr>\n    <tr>\n      <th>5058</th>\n      <td>(banners, flowt)</td>\n      <td>1</td>\n    </tr>\n    <tr>\n      <th>5059</th>\n      <td>(flowt, the)</td>\n      <td>1</td>\n    </tr>\n    <tr>\n      <th>5060</th>\n      <td>(the, skie)</td>\n      <td>1</td>\n    </tr>\n    <tr>\n      <th>5061</th>\n      <td>(skie, &lt;/s&gt;)</td>\n      <td>1</td>\n    </tr>\n  </tbody>\n</table>\n<p>5062 rows × 2 columns</p>\n</div>"
     },
     "execution_count": 85,
     "metadata": {},
     "output_type": "execute_result"
    }
   ],
   "source": [
    "model.bigram_frequency_table"
   ],
   "metadata": {
    "collapsed": false,
    "ExecuteTime": {
     "end_time": "2023-05-16T19:45:59.731995400Z",
     "start_time": "2023-05-16T19:45:59.707273700Z"
    }
   }
  },
  {
   "cell_type": "code",
   "execution_count": 89,
   "outputs": [
    {
     "data": {
      "text/plain": "0.01412566975158305"
     },
     "execution_count": 89,
     "metadata": {},
     "output_type": "execute_result"
    }
   ],
   "source": [
    "model.probability('of', 'the', smoothing_constant=1.0)"
   ],
   "metadata": {
    "collapsed": false,
    "ExecuteTime": {
     "end_time": "2023-05-16T19:47:32.751801400Z",
     "start_time": "2023-05-16T19:47:32.725986300Z"
    }
   }
  },
  {
   "cell_type": "code",
   "execution_count": 92,
   "outputs": [
    {
     "data": {
      "text/plain": "['<s>',\n 'emma',\n 'by',\n 'jane',\n 'austen',\n '1816',\n 'volume',\n 'i',\n 'chapter',\n 'i',\n 'emma',\n 'woodhouse',\n 'handsome',\n 'clever',\n 'and',\n 'rich',\n 'with',\n 'a',\n 'comfortable',\n 'home',\n 'and',\n 'happy',\n 'disposition',\n 'seemed',\n 'to',\n 'unite',\n 'some',\n 'of',\n 'the',\n 'best',\n 'blessings',\n 'of',\n 'existence',\n 'and',\n 'had',\n 'lived',\n 'nearly',\n 'twenty-one',\n 'years',\n 'in',\n 'the',\n 'world',\n 'with',\n 'very',\n 'little',\n 'to',\n 'distress',\n 'or',\n 'vex',\n 'her',\n '</s>']"
     },
     "execution_count": 92,
     "metadata": {},
     "output_type": "execute_result"
    }
   ],
   "source": [
    "model.tokens[0]"
   ],
   "metadata": {
    "collapsed": false,
    "ExecuteTime": {
     "end_time": "2023-05-16T19:48:06.096528800Z",
     "start_time": "2023-05-16T19:48:06.015014700Z"
    }
   }
  },
  {
   "cell_type": "code",
   "execution_count": 95,
   "outputs": [
    {
     "data": {
      "text/plain": "8.413863764542176"
     },
     "execution_count": 95,
     "metadata": {},
     "output_type": "execute_result"
    }
   ],
   "source": [
    "model.perplexity(['of', 'the', '</s>'])"
   ],
   "metadata": {
    "collapsed": false,
    "ExecuteTime": {
     "end_time": "2023-05-16T19:49:39.678448900Z",
     "start_time": "2023-05-16T19:49:39.613956800Z"
    }
   }
  }
 ],
 "metadata": {
  "kernelspec": {
   "display_name": "Python 3 (ipykernel)",
   "language": "python",
   "name": "python3"
  },
  "language_info": {
   "codemirror_mode": {
    "name": "ipython",
    "version": 3
   },
   "file_extension": ".py",
   "mimetype": "text/x-python",
   "name": "python",
   "nbconvert_exporter": "python",
   "pygments_lexer": "ipython3",
   "version": "3.10.9"
  }
 },
 "nbformat": 4,
 "nbformat_minor": 2
}
